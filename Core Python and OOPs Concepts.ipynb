{
 "cells": [
  {
   "cell_type": "markdown",
   "id": "b0e75726",
   "metadata": {},
   "source": [
    "Name: Shweta Solanki   Batch:Batch(A)   SYBCA "
   ]
  },
  {
   "cell_type": "markdown",
   "id": "2750d29e",
   "metadata": {},
   "source": [
    "PYTHON ASSIGNMENT 1"
   ]
  },
  {
   "cell_type": "markdown",
   "id": "5defa973",
   "metadata": {},
   "source": [
    "What is 7 to the power of 4?"
   ]
  },
  {
   "cell_type": "code",
   "execution_count": 14,
   "id": "220dad06",
   "metadata": {},
   "outputs": [
    {
     "data": {
      "text/plain": [
       "2401"
      ]
     },
     "execution_count": 14,
     "metadata": {},
     "output_type": "execute_result"
    }
   ],
   "source": [
    "7**4"
   ]
  },
  {
   "cell_type": "markdown",
   "id": "70de7a06",
   "metadata": {},
   "source": [
    "2. Split this string: s=”Hi there Sam!” into a list."
   ]
  },
  {
   "cell_type": "code",
   "execution_count": 3,
   "id": "c7eaa791",
   "metadata": {},
   "outputs": [
    {
     "data": {
      "text/plain": [
       "['Hi', 'there', 'Sam!']"
      ]
     },
     "execution_count": 3,
     "metadata": {},
     "output_type": "execute_result"
    }
   ],
   "source": [
    "s='Hi there Sam!' \n",
    "s.split() "
   ]
  },
  {
   "cell_type": "markdown",
   "id": "6ee6182c",
   "metadata": {},
   "source": [
    "Given the variables: planet = \"Earth\" diameter = 12742 Use .format() to print \n",
    "the following string: "
   ]
  },
  {
   "cell_type": "code",
   "execution_count": 4,
   "id": "6a11da7e",
   "metadata": {},
   "outputs": [
    {
     "name": "stdout",
     "output_type": "stream",
     "text": [
      "The diameter of Earth is 12742 kilometers.\n"
     ]
    }
   ],
   "source": [
    "planet=\"Earth\" \n",
    "diameter=12742 \n",
    "print(\"The diameter of {} is {} kilometers.\".format(planet,diameter)) "
   ]
  },
  {
   "cell_type": "markdown",
   "id": "61c93c0e",
   "metadata": {},
   "source": [
    "Given this nested list, use indexing to grab the word \"hello\""
   ]
  },
  {
   "cell_type": "code",
   "execution_count": 5,
   "id": "48535e8d",
   "metadata": {},
   "outputs": [
    {
     "data": {
      "text/plain": [
       "'hello'"
      ]
     },
     "execution_count": 5,
     "metadata": {},
     "output_type": "execute_result"
    }
   ],
   "source": [
    "lst=[1,2,[3,4],[5,[100,200,['hello']],23,11],1,7] \n",
    "lst[3][1][2][0] "
   ]
  },
  {
   "cell_type": "markdown",
   "id": "598a58bb",
   "metadata": {},
   "source": [
    "Given this nest dictionary grab the word \"hello\". Be prepared, this will be \n",
    "annoying/tricky "
   ]
  },
  {
   "cell_type": "code",
   "execution_count": 6,
   "id": "63f5f50f",
   "metadata": {},
   "outputs": [
    {
     "data": {
      "text/plain": [
       "'hello'"
      ]
     },
     "execution_count": 6,
     "metadata": {},
     "output_type": "execute_result"
    }
   ],
   "source": [
    "d = {'k1':[1,2,3,{'tricky':['oh','man','inception',{'target':[1,2,3,'hello']}]}]} \n",
    "d['k1'][3]['tricky'][3]['target'][3] "
   ]
  },
  {
   "cell_type": "markdown",
   "id": "ec134465",
   "metadata": {},
   "source": [
    "Create a function that grabs the email website domain from a string in the \n",
    "form: user@domain.com.So for example, passing \"user@domain.com\" \n",
    "would return: domain.com "
   ]
  },
  {
   "cell_type": "code",
   "execution_count": 7,
   "id": "e3835ac0",
   "metadata": {},
   "outputs": [
    {
     "name": "stdout",
     "output_type": "stream",
     "text": [
      "domain.com\n"
     ]
    }
   ],
   "source": [
    "def domainGet(email): \n",
    "    return email.split('@')[-1] \n",
    "print(domainGet('user@domain.com'))"
   ]
  },
  {
   "cell_type": "markdown",
   "id": "5dd14f42",
   "metadata": {},
   "source": [
    "Create a basic function that returns True if the word 'dog' is contained in \n",
    "the input string. Don't worry about edge cases like a punctuation being \n",
    "attached to the word dog, but do account for capitalization."
   ]
  },
  {
   "cell_type": "code",
   "execution_count": 8,
   "id": "a72658ac",
   "metadata": {},
   "outputs": [
    {
     "name": "stdout",
     "output_type": "stream",
     "text": [
      "True\n"
     ]
    }
   ],
   "source": [
    "def findDog(st): \n",
    "    return 'dog' in st.lower().split() \n",
    "print(findDog('Is there a dog here?')) "
   ]
  },
  {
   "cell_type": "markdown",
   "id": "79290254",
   "metadata": {},
   "source": [
    "Use lambda expressions and the filter() function to filter out words from a \n",
    "list that don't start with the letter 's'. For example: seq = \n",
    "['soup','dog','salad','cat','great'] should be filtered down to: ['soup','salad'] "
   ]
  },
  {
   "cell_type": "code",
   "execution_count": 9,
   "id": "c5b95bd3",
   "metadata": {},
   "outputs": [
    {
     "name": "stdout",
     "output_type": "stream",
     "text": [
      "['soup', 'salad']\n"
     ]
    }
   ],
   "source": [
    "seq = ['soup','dog','salad','cat','great'] \n",
    "print(list(filter(lambda word: word[0]=='s',seq)))"
   ]
  },
  {
   "cell_type": "markdown",
   "id": "a076e549",
   "metadata": {},
   "source": [
    " You are driving a little too fast, and a police officer stops you. Write a \n",
    "function to return one of 3 possible results: \"No ticket\", \"Small ticket\", or \n",
    "\"Big Ticket\". If your speed is 60 or less, the result is \"No Ticket\". If speed is \n",
    "between 61 and 80 inclusive, the result is \"Small Ticket\". If speed is 81 or \n",
    "more, the result is \"Big Ticket\". Unless it is your birthday (encoded as a \n",
    "boolean value in the parameters of the function) -- on your birthday, your \n",
    "speed can be 5 higher in all cases. "
   ]
  },
  {
   "cell_type": "code",
   "execution_count": 11,
   "id": "da6ae437",
   "metadata": {},
   "outputs": [
    {
     "name": "stdout",
     "output_type": "stream",
     "text": [
      "Small Ticket\n",
      "Big Ticket\n"
     ]
    }
   ],
   "source": [
    "def caught_speeding(speed, is_birthday):\n",
    "    if is_birthday:\n",
    "        speeding = speed - 5\n",
    "    else:\n",
    "        speeding = speed\n",
    "\n",
    "    if speeding > 80:\n",
    "        return 'Big Ticket'\n",
    "    elif speeding > 60:\n",
    "        return 'Small Ticket'\n",
    "    else:\n",
    "        return 'No Ticket'\n",
    "\n",
    "print(caught_speeding(81, True))\n",
    "print(caught_speeding(81, False))\n",
    " "
   ]
  },
  {
   "cell_type": "markdown",
   "id": "c3f2a263",
   "metadata": {},
   "source": [
    "Write a program to input roll no., student name, marks of physics, \n",
    "Chemistry and maths out of 100. (0-100) Calculate total, percentage, \n",
    "calculate STATUS(pass,fail) if students scores above 40 in all the 3 subjects \n",
    "the STATUS should be pass otherwise fail. Calculate GRADE: is status is \n",
    "pass. \n",
    "If percentage is above 70, then grade must be DISTINCTION if percentage \n",
    "is above 60, then grade must be FIRST CLASS  \n",
    "If percentage is above 50, then grade must be SECOND CLASS if \n",
    "percentage is above 40, then grade must be PASS CLASS."
   ]
  },
  {
   "cell_type": "code",
   "execution_count": 13,
   "id": "be559736",
   "metadata": {},
   "outputs": [
    {
     "name": "stdout",
     "output_type": "stream",
     "text": [
      "Enter your roll no: 22000278\n",
      "Enter your name: Shweta Solanki\n",
      "Enter marks in physics: 56\n",
      "Enter marks in chemistry: 85\n",
      "Enter marks in maths: 95\n",
      "Total = 236.0\n",
      "Percentage = 78.67%\n",
      "Grade: PASS\n",
      "DISTINCTION\n"
     ]
    }
   ],
   "source": [
    "def get_student_details():\n",
    "    rollno = int(input(\"Enter your roll no: \"))\n",
    "    name = input(\"Enter your name: \")\n",
    "    physics = float(input(\"Enter marks in physics: \"))\n",
    "    chemistry = float(input(\"Enter marks in chemistry: \"))\n",
    "    maths = float(input(\"Enter marks in maths: \"))\n",
    "    return physics, chemistry, maths\n",
    "\n",
    "def calculate_results(physics, chemistry, maths):\n",
    "    total = physics + chemistry + maths\n",
    "    print(\"Total =\", total)\n",
    "    percentage = (total / 300) * 100\n",
    "    print(\"Percentage = {:.2f}%\".format(percentage))\n",
    "    \n",
    "    if physics >= 40 and chemistry >= 40 and maths >= 40:\n",
    "        print(\"Grade: PASS\")\n",
    "        if percentage >= 70:\n",
    "            print(\"DISTINCTION\")\n",
    "        elif percentage >= 60:\n",
    "            print(\"FIRST CLASS\")\n",
    "        elif percentage >= 50:\n",
    "            print(\"SECOND CLASS\")\n",
    "        else:\n",
    "            print(\"PASS CLASS\")\n",
    "    else:\n",
    "        print(\"Grade: FAIL\")\n",
    "\n",
    "def main():\n",
    "    physics, chemistry, maths = get_student_details()\n",
    "    calculate_results(physics, chemistry, maths)\n",
    "\n",
    "if __name__ == \"__main__\":\n",
    "    main()\n"
   ]
  },
  {
   "cell_type": "markdown",
   "id": "b6091fb8",
   "metadata": {},
   "source": [
    "Python Assignment 2 "
   ]
  },
  {
   "cell_type": "markdown",
   "id": "231d72f1",
   "metadata": {},
   "source": [
    " Write a OOP in python to input empid, name, basic salary, no. of \n",
    "experience in yrs. Calculate hra (35% of basic), da (58% of basic) and pf \n",
    "(9.5% of basic). Also calculate bonus based on experience in years. \n",
    "If experience in years is >=30, bonus must be 59% of basic, If experience in \n",
    "years is >=23, bonus must be 51% of basic, If experience in years is >=15, \n",
    "bonus must 45% of basic, If experience in years is >=7, bonus must be 33% of \n",
    "basic, If experience in years is <7, bonus must be 16% of basic Calculate \n",
    "netsalary as basic+da+hra+pf+bonus. Create a class, constructor to create \n",
    "instance variables, getter-setter for each variable, calculative functions for \n",
    "operative variables. A class methods/function should not contain display \n",
    "specific and input specific code. Such code should be added in driver part \n",
    "of python program."
   ]
  },
  {
   "cell_type": "code",
   "execution_count": 17,
   "id": "6d8bd01a",
   "metadata": {},
   "outputs": [
    {
     "name": "stdout",
     "output_type": "stream",
     "text": [
      "Enter Employee ID: 22000278\n",
      "Enter Name: Shweta Solanki\n",
      "Enter Basic Salary: 12000000\n",
      "Enter Years of Experience: 5\n",
      "\n",
      "Employee Details:\n",
      "Employee ID: 22000278\n",
      "Name: Shweta Solanki\n",
      "Basic Salary: 12000000.0\n",
      "Experience (in years): 5\n",
      "\n",
      "Operative Variables:\n",
      "HRA: 4200000.0\n",
      "DA: 6959999.999999999\n",
      "PF: 1140000.0\n",
      "Bonus: 1920000.0\n",
      "\n",
      "Net Salary: 23940000.0\n"
     ]
    }
   ],
   "source": [
    "class Employee:\n",
    "    def __init__(self, empid, name, basic_salary, experience_years):\n",
    "        self.empid = empid\n",
    "        self.name = name\n",
    "        self.basic_salary = basic_salary\n",
    "        self.experience_years = experience_years\n",
    "        self.hra = self.calculate_hra()\n",
    "        self.da = self.calculate_da()\n",
    "        self.pf = self.calculate_pf()\n",
    "        self.bonus = self.calculate_bonus()\n",
    "        self.net_salary = self.calculate_net_salary()\n",
    "\n",
    "    def calculate_hra(self):\n",
    "        \"\"\"Calculates the House Rent Allowance.\"\"\"\n",
    "        return 0.35 * self.basic_salary\n",
    "\n",
    "    def calculate_da(self):\n",
    "        \"\"\"Calculates the Dearness Allowance.\"\"\"\n",
    "        return 0.58 * self.basic_salary\n",
    "\n",
    "    def calculate_pf(self):\n",
    "        \"\"\"Calculates the Provident Fund.\"\"\"\n",
    "        return 0.095 * self.basic_salary\n",
    "\n",
    "    def calculate_bonus(self):\n",
    "        \"\"\"Calculates the Bonus based on years of experience.\"\"\"\n",
    "        if self.experience_years >= 30:\n",
    "            return 0.59 * self.basic_salary\n",
    "        elif self.experience_years >= 23:\n",
    "            return 0.51 * self.basic_salary\n",
    "        elif self.experience_years >= 15:\n",
    "            return 0.45 * self.basic_salary\n",
    "        elif self.experience_years >= 7:\n",
    "            return 0.33 * self.basic_salary\n",
    "        else:\n",
    "            return 0.16 * self.basic_salary\n",
    "\n",
    "    def calculate_net_salary(self):\n",
    "        \"\"\"Calculates the Net Salary.\"\"\"\n",
    "        return self.basic_salary + self.hra + self.da + self.bonus - self.pf\n",
    "\n",
    "    def display_details(self):\n",
    "        \"\"\"Prints all details of the employee.\"\"\"\n",
    "        print(\"\\nEmployee Details:\")\n",
    "        print(\"Employee ID:\", self.empid)\n",
    "        print(\"Name:\", self.name)\n",
    "        print(\"Basic Salary:\", self.basic_salary)\n",
    "        print(\"Experience (in years):\", self.experience_years)\n",
    "        print(\"\\nOperative Variables:\")\n",
    "        print(\"HRA:\", self.hra)\n",
    "        print(\"DA:\", self.da)\n",
    "        print(\"PF:\", self.pf)\n",
    "        print(\"Bonus:\", self.bonus)\n",
    "        print(\"\\nNet Salary:\", self.net_salary)\n",
    "\n",
    "# Driver code with user input\n",
    "empid = int(input(\"Enter Employee ID: \"))\n",
    "name = input(\"Enter Name: \")\n",
    "basic_salary = float(input(\"Enter Basic Salary: \"))\n",
    "experience_years = int(input(\"Enter Years of Experience: \"))\n",
    "\n",
    "# Create Employee instance and display details\n",
    "emp = Employee(empid, name, basic_salary, experience_years)\n",
    "emp.display_details()\n"
   ]
  },
  {
   "cell_type": "markdown",
   "id": "72c27a7f",
   "metadata": {},
   "source": [
    " Write an OOP based Python program which inputs n numbers in a list from \n",
    "keyboard. If 8 numbers are inputted, calculate sum of Oth and 7th element and \n",
    "save it in another list say newlist[0], sum of Ist and 6th to newlist[1], sum of 2nd \n",
    "and 5th to newlist[2], sum of 3rd and 4th to newlist[3] and so on. Remove \n",
    "duplicates from newlist if any by converting to set. Later convert it to tuple and \n",
    "display."
   ]
  },
  {
   "cell_type": "code",
   "execution_count": 18,
   "id": "9fc14049",
   "metadata": {},
   "outputs": [
    {
     "name": "stdout",
     "output_type": "stream",
     "text": [
      "Enter 8 numbers:\n",
      "1\n",
      "25\n",
      "85\n",
      "45\n",
      "96\n",
      "42\n",
      "32\n",
      "85\n",
      "Resulting Tuple after removing duplicates: (57.0, 141.0, 86.0, 127.0)\n"
     ]
    }
   ],
   "source": [
    "class NumberProcessor: \n",
    "    def __init__(self): \n",
    "        self.number_list = [] \n",
    "        self.new_list = [] \n",
    " \n",
    "    def input_numbers(self, n): \n",
    "        print(f\"Enter {n} numbers:\") \n",
    "        for _ in range(n): \n",
    "            number = float(input()) \n",
    "            self.number_list.append(number) \n",
    " \n",
    "    def calculate_and_create_new_list(self): \n",
    "        length = len(self.number_list) \n",
    "        for i in range(length // 2): \n",
    "            sum_result = self.number_list[i] + self.number_list[length - 1 - i] \n",
    "            self.new_list.append(sum_result) \n",
    " \n",
    "    def remove_duplicates_and_display(self): \n",
    "        unique_set = set(self.new_list) \n",
    "        unique_tuple = tuple(unique_set) \n",
    "        print(\"Resulting Tuple after removing duplicates:\", unique_tuple) \n",
    " \n",
    " \n",
    "# Driver code \n",
    "num_processor = NumberProcessor() \n",
    "num_processor.input_numbers(8) \n",
    "num_processor.calculate_and_create_new_list() \n",
    "num_processor.remove_duplicates_and_display()"
   ]
  },
  {
   "cell_type": "markdown",
   "id": "340fe712",
   "metadata": {},
   "source": [
    " Write an OOP program to perform addition, base and power, concatenation, max, \n",
    "min of two numbers stored in two different objects created from same class.  \n",
    "n1=MyNumber(2) n2=MyNumber() n2.setNum(5) n3=n1.add(n2)  \n",
    "print(\"Addition is \",n3.getNum()) #7 n3=n1.raisedTo(n2)  \n",
    "print(n1.getNum(),\" raised to \",n2.getNum(),\" is \",n3.getNum()) #32 n3=n1.concat(n2)  \n",
    "print(\"Concat answer is \",n3.getNum()) #25 n3=n1.max(n2)  \n",
    "print(\"Max is \",n3.getNum())"
   ]
  },
  {
   "cell_type": "code",
   "execution_count": 19,
   "id": "8acde135",
   "metadata": {},
   "outputs": [
    {
     "name": "stdout",
     "output_type": "stream",
     "text": [
      "Addition is 7\n",
      "2 raised to 5 is 32\n",
      "Concat answer is 25\n",
      "Max is 5\n"
     ]
    }
   ],
   "source": [
    "class MyNumber: \n",
    "    def __init__(self, value=0): \n",
    "        self.value = value \n",
    " \n",
    "    def setNum(self, value): \n",
    "        self.value = value \n",
    " \n",
    "    def getNum(self): \n",
    "        return self.value \n",
    " \n",
    "    def add(self, other): \n",
    "        result = self.value + other.value \n",
    "        return MyNumber(result) \n",
    " \n",
    "    def raisedTo(self, other): \n",
    "        result = self.value ** other.value \n",
    "        return MyNumber(result) \n",
    " \n",
    "    def concat(self, other): \n",
    "        result = int(str(self.value) + str(other.value)) \n",
    "        return MyNumber(result) \n",
    " \n",
    "    def max(self, other): \n",
    "        result = max(self.value, other.value) \n",
    "        return MyNumber(result) \n",
    " \n",
    "    def min(self, other): \n",
    "        result = min(self.value, other.value) \n",
    "        return MyNumber(result) \n",
    " \n",
    " \n",
    "# Example usage: \n",
    "n1 = MyNumber(2) \n",
    "n2 = MyNumber() \n",
    "n2.setNum(5) \n",
    " \n",
    "n3 = n1.add(n2) \n",
    "print(\"Addition is\", n3.getNum())  # 7 \n",
    " \n",
    "n3 = n1.raisedTo(n2) \n",
    "print(n1.getNum(), \"raised to\", n2.getNum(), \"is\", n3.getNum())  # 32 \n",
    " \n",
    "n3 = n1.concat(n2) \n",
    "print(\"Concat answer is\", n3.getNum())  # 25 \n",
    " \n",
    "n3 = n1.max(n2) \n",
    "print(\"Max is\", n3.getNum())"
   ]
  },
  {
   "cell_type": "markdown",
   "id": "3690a774",
   "metadata": {},
   "source": [
    "Python Assignment 3  "
   ]
  },
  {
   "cell_type": "markdown",
   "id": "25ea8f81",
   "metadata": {},
   "source": [
    "Write a python program to access following data structure "
   ]
  },
  {
   "cell_type": "code",
   "execution_count": 21,
   "id": "3f13ec8c",
   "metadata": {},
   "outputs": [
    {
     "name": "stdout",
     "output_type": "stream",
     "text": [
      "Enter ID to search: 12345\n",
      "Student ID: 12345, Name: Diksha, Email: Diksha@nuv.ac.in\n",
      "Enter name to search: Heena\n",
      "Student ID: 68433, Name: Heena, Email: Heena@nuv.ac.in\n"
     ]
    }
   ],
   "source": [
    "data = [\n",
    "    (12345, \"Diksha\", \"Diksha@nuv.ac.in\"),\n",
    "    (45667, \"Jiva\", \"Jiva@nuv.ac.in\"),\n",
    "    (16789, \"Ronit\", \"Ronitd@nuv.ac.in\"),\n",
    "    (68433, \"Heena\", \"Heena@nuv.ac.in\")\n",
    "]\n",
    "\n",
    "def search_by_id(uid):\n",
    "    found = False\n",
    "    for tup in data:\n",
    "        if tup[0] == uid:\n",
    "            sid, sname, semail = tup\n",
    "            print(f'Student ID: {sid}, Name: {sname}, Email: {semail}')\n",
    "            found = True\n",
    "            break\n",
    "    if not found:\n",
    "        print(\"No student found with ID:\", uid)\n",
    "\n",
    "def search_by_name(uname):\n",
    "    found = False\n",
    "    for tup in data:\n",
    "        if tup[1] == uname:\n",
    "            sid, sname, semail = tup\n",
    "            print(f'Student ID: {sid}, Name: {sname}, Email: {semail}')\n",
    "            found = True\n",
    "            break\n",
    "    if not found:\n",
    "        print(\"No student found with name:\", uname)\n",
    "\n",
    "# Interactive part of the script\n",
    "try:\n",
    "    uid = int(input(\"Enter ID to search: \"))\n",
    "    search_by_id(uid)\n",
    "except ValueError:\n",
    "    print(\"Invalid ID entered. Please enter a numeric ID.\")\n",
    "\n",
    "uname = input(\"Enter name to search: \")\n",
    "search_by_name(uname)\n"
   ]
  },
  {
   "cell_type": "markdown",
   "id": "a4859300",
   "metadata": {},
   "source": [
    "Write a python program to access the following dictionary: \n",
    "Mydict= {\"Enrollment id:\":[12345,45667,16789,68433], \n",
    "\"Student Name\":[\"Diksha\",\"Jiva\",\"Ronit\",\"Heena\"], \n",
    "\"Email Id\" : [\"Diksha \n",
    "r@nuv.ac.in\",\"Jiva@nuv.ac.in\",\"Ronitd@nuv.ac.in\",\"Hee\n",
    " na@nuv.ac.in\"] } print(f \n",
    "\"{enrolid:7}{sname:12}{emailid:25}\")"
   ]
  },
  {
   "cell_type": "code",
   "execution_count": 23,
   "id": "3cc36b86",
   "metadata": {},
   "outputs": [
    {
     "name": "stdout",
     "output_type": "stream",
     "text": [
      "Enter the id or name: 12345\n",
      "12345          Diksha         Diksha@nuv.ac.in         \n"
     ]
    }
   ],
   "source": [
    "# Corrected dictionary format and string formatting issues\n",
    "my_dict = {\n",
    "    \"Enrollment id\": [12345, 45667, 16789, 68433],\n",
    "    \"Student Name\": [\"Diksha\", \"Jiva\", \"Ronit\", \"Heena\"],\n",
    "    \"Email Id\": [\"Diksha@nuv.ac.in\", \"Jiva@nuv.ac.in\", \"Ronitd@nuv.ac.in\", \"Heena@nuv.ac.in\"]\n",
    "}\n",
    "\n",
    "def search(value):\n",
    "    # Attempt to convert input to int, if it fails, treat it as a name\n",
    "    try:\n",
    "        value = int(value)\n",
    "        index_key = \"Enrollment id\"\n",
    "    except ValueError:\n",
    "        index_key = \"Student Name\"\n",
    "\n",
    "    # Check if the value exists in the corresponding list\n",
    "    if value in my_dict[index_key]:\n",
    "        i = my_dict[index_key].index(value)\n",
    "        enrolid = my_dict[\"Enrollment id\"][i]\n",
    "        ename = my_dict[\"Student Name\"][i]\n",
    "        eemailid = my_dict[\"Email Id\"][i]\n",
    "        print(f\"{enrolid:<15}{ename:<15}{eemailid:<25}\")\n",
    "    else:\n",
    "        print(\"No record found.\")\n",
    "\n",
    "# Interactive search by ID\n",
    "value = input(\"Enter the id or name: \")\n",
    "search(value)\n"
   ]
  },
  {
   "cell_type": "markdown",
   "id": "b8e7f1df",
   "metadata": {},
   "source": [
    "Write a python program to convert data in nested list \n",
    "structure to dictionary, e.g., \n",
    "data=[(12345,\"Diksha\",\"Diksha \n",
    "r@nuv.ac.in\"),(45667,\"Jiva\",\"Jiva@nuv.ac.in\"),(16789,\"R\n",
    " onit\",\"Ronitd@nuv.ac.in\"), \n",
    "(68433,\"Heena\",\"Heena@nuv.ac.in\")] Provide key such \n",
    "as Enrollment Id, Student Name, and Email Id \n",
    "Resultant Data Mydict={\"Enrollment \n",
    "id:\":[12345,45667,16789,68433], \"Student \n",
    "Name\":[\"Diksha\",\"Jiva\",\"Ronit\",\"Heena\"], \"Email Id\" : \n",
    "[\"Diksha \n",
    "r@nuv.ac.in\",\"Jiva@nuv.ac.in\",\"Ronitd@nuv.ac.in\",\"Hee\n",
    " na@nuv.ac.in\"]} \n",
    "Display data in a tabular format "
   ]
  },
  {
   "cell_type": "code",
   "execution_count": 25,
   "id": "e4d62ad5",
   "metadata": {},
   "outputs": [
    {
     "name": "stdout",
     "output_type": "stream",
     "text": [
      "Enrollment Id  Student Name   Email Id                      \n",
      "12345          Diksha         Diksha@nuv.ac.in              \n",
      "45667          Jiva           Jiva@nuv.ac.in                \n",
      "16789          Ronit          Ronit@nuv.ac.in               \n",
      "69433          Heena          Heena@nuv.ac.in               \n",
      "\n",
      "Resultant Data:\n",
      "{'Enrollment Id': [12345, 45667, 16789, 69433], 'Student Name': ['Diksha', 'Jiva', 'Ronit', 'Heena'], 'Email Id': ['Diksha@nuv.ac.in', 'Jiva@nuv.ac.in', 'Ronit@nuv.ac.in', 'Heena@nuv.ac.in']}\n"
     ]
    }
   ],
   "source": [
    "data = [\n",
    "    (12345, \"Diksha\", \"Diksha@nuv.ac.in\"),  # Corrected the email format\n",
    "    (45667, \"Jiva\", \"Jiva@nuv.ac.in\"),\n",
    "    (16789, \"Ronit\", \"Ronit@nuv.ac.in\"),\n",
    "    (69433, \"Heena\", \"Heena@nuv.ac.in\")\n",
    "]\n",
    "\n",
    "# Extracting values from the nested list\n",
    "enrollment_ids = [item[0] for item in data]\n",
    "student_names = [item[1] for item in data]\n",
    "email_ids = [item[2] for item in data]\n",
    "\n",
    "# Creating a dictionary\n",
    "mydict = {\n",
    "    \"Enrollment Id\": enrollment_ids,\n",
    "    \"Student Name\": student_names,\n",
    "    \"Email Id\": email_ids\n",
    "}\n",
    "\n",
    "# Displaying data in tabular format\n",
    "print(f\"{'Enrollment Id':<15}{'Student Name':<15}{'Email Id':<30}\")\n",
    "for i in range(len(enrollment_ids)):\n",
    "    print(f\"{enrollment_ids[i]:<15}{student_names[i]:<15}{email_ids[i]:<30}\")\n",
    "\n",
    "print(\"\\nResultant Data:\")\n",
    "print(mydict)\n"
   ]
  },
  {
   "cell_type": "markdown",
   "id": "ed9bbd34",
   "metadata": {},
   "source": [
    "Write a menu driven Object Oriented program to \n",
    "store Students details like Enrollment No,Student \n",
    "Name and Contact Number permanently using \n",
    "dictionary data structure. \n",
    "Add functions to add, update, delete and display data. \n",
    "Save data permanently in a JSON file. \n",
    "HINT: \n",
    "To import json library \n",
    "import json \n",
    "To write any object to python \n",
    "fw=open(\"students.json\",\"w\") \n",
    "jsndata = json.dumps(dictionary of students \n",
    "details)#dumps converts dictionary to json \n",
    "fw.write(jsndata) \n",
    "To read any json object from file \n",
    "fr=open(\"students.json\",\"r\") \n",
    "allStudents=json.load(fr) #reads whole file and returns \n",
    "the data. "
   ]
  },
  {
   "cell_type": "code",
   "execution_count": 28,
   "id": "5d587238",
   "metadata": {},
   "outputs": [
    {
     "name": "stdout",
     "output_type": "stream",
     "text": [
      "\n",
      "Menu:\n",
      "1. Add Student\n",
      "2. Update Student\n",
      "3. Delete Student\n",
      "4. Display Students\n",
      "5. Save Students\n",
      "6. Load Students\n",
      "7. Exit\n",
      "Enter your choice: 1\n",
      "Enter Enrollment No: 22000278\n",
      "Enter Name: Shweta Solanki\n",
      "Enter Contact No: 9874563210\n",
      "Student added successfully.\n",
      "\n",
      "Menu:\n",
      "1. Add Student\n",
      "2. Update Student\n",
      "3. Delete Student\n",
      "4. Display Students\n",
      "5. Save Students\n",
      "6. Load Students\n",
      "7. Exit\n",
      "Enter your choice: 7\n",
      "Exiting...\n"
     ]
    }
   ],
   "source": [
    "import json\n",
    "\n",
    "class Student:\n",
    "    def __init__(self, enrollment_no, name, contact_no):\n",
    "        self.enrollment_no = enrollment_no\n",
    "        self.name = name\n",
    "        self.contact_no = contact_no\n",
    "\n",
    "class StudentManager:\n",
    "    def __init__(self):\n",
    "        self.students = {}\n",
    "\n",
    "    def add_student(self, enrollment_no, name, contact_no):\n",
    "        if enrollment_no not in self.students:\n",
    "            self.students[enrollment_no] = Student(enrollment_no, name, contact_no)\n",
    "            print(\"Student added successfully.\")\n",
    "        else:\n",
    "            print(\"Student with this Enrollment No already exists.\")\n",
    "\n",
    "    def update_student(self, enrollment_no, name, contact_no):\n",
    "        if enrollment_no in self.students:\n",
    "            self.students[enrollment_no].name = name\n",
    "            self.students[enrollment_no].contact_no = contact_no\n",
    "            print(\"Student updated successfully.\")\n",
    "        else:\n",
    "            print(\"Student with this Enrollment No does not exist.\")\n",
    "\n",
    "    def delete_student(self, enrollment_no):\n",
    "        if enrollment_no in self.students:\n",
    "            del self.students[enrollment_no]\n",
    "            print(\"Student deleted successfully.\")\n",
    "        else:\n",
    "            print(\"Student with this Enrollment No does not exist.\")\n",
    "\n",
    "    def display_students(self):\n",
    "        for student in self.students.values():\n",
    "            print(f\"Enrollment No: {student.enrollment_no}, Name: {student.name}, Contact No: {student.contact_no}\")\n",
    "\n",
    "    def save_students(self, filename):\n",
    "        with open(filename, 'w') as fw:\n",
    "            json_data = json.dumps({k: v.__dict__ for k, v in self.students.items()}, indent=4)\n",
    "            fw.write(json_data)\n",
    "        print(\"Students saved successfully.\")\n",
    "\n",
    "    def load_students(self, filename):\n",
    "        with open(filename, 'r') as fr:\n",
    "            self.students = {int(k): Student(**v) for k, v in json.load(fr).items()}\n",
    "        print(\"Students loaded successfully.\")\n",
    "\n",
    "    def menu(self):\n",
    "        while True:\n",
    "            print(\"\\nMenu:\")\n",
    "            print(\"1. Add Student\")\n",
    "            print(\"2. Update Student\")\n",
    "            print(\"3. Delete Student\")\n",
    "            print(\"4. Display Students\")\n",
    "            print(\"5. Save Students\")\n",
    "            print(\"6. Load Students\")\n",
    "            print(\"7. Exit\")\n",
    "            choice = int(input(\"Enter your choice: \"))\n",
    "            if choice == 1:\n",
    "                enrollment_no = int(input(\"Enter Enrollment No: \"))\n",
    "                name = input(\"Enter Name: \")\n",
    "                contact_no = input(\"Enter Contact No: \")\n",
    "                self.add_student(enrollment_no, name, contact_no)\n",
    "            elif choice == 2:\n",
    "                enrollment_no = int(input(\"Enter Enrollment No: \"))\n",
    "                name = input(\"Enter new Name: \")\n",
    "                contact_no = input(\"Enter new Contact No: \")\n",
    "                self.update_student(enrollment_no, name, contact_no)\n",
    "            elif choice == 3:\n",
    "                enrollment_no = int(input(\"Enter Enrollment No: \"))\n",
    "                self.delete_student(enrollment_no)\n",
    "            elif choice == 4:\n",
    "                self.display_students()\n",
    "            elif choice == 5:\n",
    "                filename = input(\"Enter filename to save: \")\n",
    "                self.save_students(filename)\n",
    "            elif choice == 6:\n",
    "                filename = input(\"Enter filename to load: \")\n",
    "                self.load_students(filename)\n",
    "            elif choice == 7:\n",
    "                print(\"Exiting...\")\n",
    "                break\n",
    "            else:\n",
    "                print(\"Invalid choice. Please try again.\")\n",
    "\n",
    "# Create an instance of StudentManager and call the menu function\n",
    "manager = StudentManager()\n",
    "manager.menu()\n"
   ]
  },
  {
   "cell_type": "markdown",
   "id": "077db78e",
   "metadata": {},
   "source": [
    "  A data.csv file has following data(stateid, name, \n",
    "population in crores, No. of Universities) \n",
    "data.csv \n",
    "12001,Gujarat,10,29,12002,Maharashtra,19,36,12003,R\n",
    " ajasthan,13,31,12004,Madhya \n",
    "Pradesh,14,21,12005,Punjab,12,13,12006,Karnataka,23,\n",
    " 31,12007,Tamilnadu,25,29,1208,Keral \n",
    "a,21,15 \n",
    "Read data.csv file. Transfer data to data structure like \n",
    "following \n",
    "States={ \n",
    "12001: \n",
    "{\"name\":\"Gujarat\",\"population\":10,\"no_of_uni\":20}, \n",
    "12002: \n",
    "{\"name\":\"Maharashtra\",\"population\":19,\"no_of_uni\":36} \n",
    "} \n",
    "Using this data, construct dictionary in following \n",
    "manner. "
   ]
  },
  {
   "cell_type": "code",
   "execution_count": 31,
   "id": "eca5ebe8",
   "metadata": {},
   "outputs": [
    {
     "name": "stdout",
     "output_type": "stream",
     "text": [
      "12001: {'name': 'Gujarat', 'population': 10, 'no_of_uni': 29}\n",
      "12002: {'name': 'Maharashtra', 'population': 19, 'no_of_uni': 36}\n",
      "12003: {'name': 'Rajashthan', 'population': 13, 'no_of_uni': 31}\n",
      "12004: {'name': 'MadhyaPradesh', 'population': 14, 'no_of_uni': 21}\n",
      "12005: {'name': 'Punjab', 'population': 12, 'no_of_uni': 13}\n",
      "12006: {'name': 'Karnataka', 'population': 23, 'no_of_uni': 31}\n",
      "12007: {'name': 'TamilNadu', 'population': 25, 'no_of_uni': 29}\n",
      "12008: {'name': 'Kerala', 'population': 21, 'no_of_uni': 15}\n"
     ]
    }
   ],
   "source": [
    "import csv\n",
    "\n",
    "def read_csv(file_path):\n",
    "    states = {}\n",
    "\n",
    "    with open(file_path, 'r') as file:\n",
    "        csv_reader = csv.reader(file)\n",
    "\n",
    "        # Skipping the header if your CSV has one\n",
    "        next(csv_reader, None)  # Skip the header\n",
    "\n",
    "        for row in csv_reader:\n",
    "            state_id = int(row[0])\n",
    "            state_name = row[1]\n",
    "            population = int(row[2])\n",
    "            universities = int(row[3])\n",
    "\n",
    "            states[state_id] = {\n",
    "                \"name\": state_name,\n",
    "                \"population\": population,\n",
    "                \"no_of_uni\": universities\n",
    "            }\n",
    "\n",
    "    return states\n",
    "\n",
    "# Assuming your data.csv file is in the current working directory\n",
    "file_path = 'data.csv'\n",
    "states_data = read_csv(file_path)\n",
    "\n",
    "# Print the constructed dictionary\n",
    "for state_id, state_info in states_data.items():\n",
    "    print(f\"{state_id}: {state_info}\")\n"
   ]
  },
  {
   "cell_type": "code",
   "execution_count": null,
   "id": "c1cc13d2",
   "metadata": {},
   "outputs": [],
   "source": []
  }
 ],
 "metadata": {
  "kernelspec": {
   "display_name": "Python 3 (ipykernel)",
   "language": "python",
   "name": "python3"
  },
  "language_info": {
   "codemirror_mode": {
    "name": "ipython",
    "version": 3
   },
   "file_extension": ".py",
   "mimetype": "text/x-python",
   "name": "python",
   "nbconvert_exporter": "python",
   "pygments_lexer": "ipython3",
   "version": "3.11.5"
  }
 },
 "nbformat": 4,
 "nbformat_minor": 5
}
