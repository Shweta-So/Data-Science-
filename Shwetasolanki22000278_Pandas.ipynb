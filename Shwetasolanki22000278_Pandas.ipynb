{
 "cells": [
  {
   "cell_type": "markdown",
   "id": "bfb2f5bc",
   "metadata": {},
   "source": [
    "TASK-1 Pratice Question"
   ]
  },
  {
   "cell_type": "markdown",
   "id": "538c9fa7",
   "metadata": {},
   "source": [
    "1. Create 3 list viz. productId, Product Name, Product Price with 5 elements each. "
   ]
  },
  {
   "cell_type": "code",
   "execution_count": 1,
   "id": "091e6f8d",
   "metadata": {},
   "outputs": [],
   "source": [
    "import pandas as pd"
   ]
  },
  {
   "cell_type": "code",
   "execution_count": 2,
   "id": "65c972e2",
   "metadata": {},
   "outputs": [
    {
     "data": {
      "text/html": [
       "<div>\n",
       "<style scoped>\n",
       "    .dataframe tbody tr th:only-of-type {\n",
       "        vertical-align: middle;\n",
       "    }\n",
       "\n",
       "    .dataframe tbody tr th {\n",
       "        vertical-align: top;\n",
       "    }\n",
       "\n",
       "    .dataframe thead th {\n",
       "        text-align: right;\n",
       "    }\n",
       "</style>\n",
       "<table border=\"1\" class=\"dataframe\">\n",
       "  <thead>\n",
       "    <tr style=\"text-align: right;\">\n",
       "      <th></th>\n",
       "      <th>ProductId</th>\n",
       "      <th>Product Name</th>\n",
       "      <th>Product Price</th>\n",
       "    </tr>\n",
       "  </thead>\n",
       "  <tbody>\n",
       "    <tr>\n",
       "      <th>0</th>\n",
       "      <td>123</td>\n",
       "      <td>Soap</td>\n",
       "      <td>50</td>\n",
       "    </tr>\n",
       "    <tr>\n",
       "      <th>1</th>\n",
       "      <td>456</td>\n",
       "      <td>Towel</td>\n",
       "      <td>500</td>\n",
       "    </tr>\n",
       "    <tr>\n",
       "      <th>2</th>\n",
       "      <td>789</td>\n",
       "      <td>Body Wash</td>\n",
       "      <td>800</td>\n",
       "    </tr>\n",
       "    <tr>\n",
       "      <th>3</th>\n",
       "      <td>147</td>\n",
       "      <td>Shampo</td>\n",
       "      <td>750</td>\n",
       "    </tr>\n",
       "    <tr>\n",
       "      <th>4</th>\n",
       "      <td>258</td>\n",
       "      <td>Face Wash</td>\n",
       "      <td>350</td>\n",
       "    </tr>\n",
       "  </tbody>\n",
       "</table>\n",
       "</div>"
      ],
      "text/plain": [
       "   ProductId Product Name  Product Price\n",
       "0        123         Soap             50\n",
       "1        456        Towel            500\n",
       "2        789    Body Wash            800\n",
       "3        147       Shampo            750\n",
       "4        258    Face Wash            350"
      ]
     },
     "execution_count": 2,
     "metadata": {},
     "output_type": "execute_result"
    }
   ],
   "source": [
    "data = [[123,'Soap',50],\n",
    "        [456,'Towel',500],\n",
    "       [789,'Body Wash',800],\n",
    "       [147,'Shampo',750],\n",
    "       [258,'Face Wash',350]]\n",
    "df = pd.DataFrame(data,columns=['ProductId','Product Name','Product Price'])\n",
    "df"
   ]
  },
  {
   "cell_type": "markdown",
   "id": "fd2b6479",
   "metadata": {},
   "source": [
    "2. Extract one by one column and display separately from above dataframe."
   ]
  },
  {
   "cell_type": "code",
   "execution_count": 3,
   "id": "7847ed29",
   "metadata": {},
   "outputs": [
    {
     "data": {
      "text/plain": [
       "0    123\n",
       "1    456\n",
       "2    789\n",
       "3    147\n",
       "4    258\n",
       "Name: ProductId, dtype: int64"
      ]
     },
     "execution_count": 3,
     "metadata": {},
     "output_type": "execute_result"
    }
   ],
   "source": [
    "df['ProductId']"
   ]
  },
  {
   "cell_type": "code",
   "execution_count": 4,
   "id": "001aa94d",
   "metadata": {},
   "outputs": [
    {
     "data": {
      "text/plain": [
       "0         Soap\n",
       "1        Towel\n",
       "2    Body Wash\n",
       "3       Shampo\n",
       "4    Face Wash\n",
       "Name: Product Name, dtype: object"
      ]
     },
     "execution_count": 4,
     "metadata": {},
     "output_type": "execute_result"
    }
   ],
   "source": [
    "df['Product Name']"
   ]
  },
  {
   "cell_type": "code",
   "execution_count": 5,
   "id": "c316a977",
   "metadata": {},
   "outputs": [
    {
     "data": {
      "text/plain": [
       "0     50\n",
       "1    500\n",
       "2    800\n",
       "3    750\n",
       "4    350\n",
       "Name: Product Price, dtype: int64"
      ]
     },
     "execution_count": 5,
     "metadata": {},
     "output_type": "execute_result"
    }
   ],
   "source": [
    "df['Product Price']"
   ]
  },
  {
   "cell_type": "code",
   "execution_count": 6,
   "id": "73a4a94e",
   "metadata": {},
   "outputs": [
    {
     "data": {
      "text/plain": [
       "ProductId         123\n",
       "Product Name     Soap\n",
       "Product Price      50\n",
       "Name: 0, dtype: object"
      ]
     },
     "execution_count": 6,
     "metadata": {},
     "output_type": "execute_result"
    }
   ],
   "source": [
    "df.loc[0]"
   ]
  },
  {
   "cell_type": "code",
   "execution_count": 7,
   "id": "cdd8f71e",
   "metadata": {},
   "outputs": [
    {
     "data": {
      "text/plain": [
       "ProductId          456\n",
       "Product Name     Towel\n",
       "Product Price      500\n",
       "Name: 1, dtype: object"
      ]
     },
     "execution_count": 7,
     "metadata": {},
     "output_type": "execute_result"
    }
   ],
   "source": [
    "df.loc[1]"
   ]
  },
  {
   "cell_type": "code",
   "execution_count": 8,
   "id": "f3139e8c",
   "metadata": {},
   "outputs": [
    {
     "data": {
      "text/plain": [
       "ProductId              789\n",
       "Product Name     Body Wash\n",
       "Product Price          800\n",
       "Name: 2, dtype: object"
      ]
     },
     "execution_count": 8,
     "metadata": {},
     "output_type": "execute_result"
    }
   ],
   "source": [
    "df.loc[2]"
   ]
  },
  {
   "cell_type": "code",
   "execution_count": 9,
   "id": "01b2e771",
   "metadata": {},
   "outputs": [
    {
     "data": {
      "text/plain": [
       "ProductId           147\n",
       "Product Name     Shampo\n",
       "Product Price       750\n",
       "Name: 3, dtype: object"
      ]
     },
     "execution_count": 9,
     "metadata": {},
     "output_type": "execute_result"
    }
   ],
   "source": [
    "df.loc[3]"
   ]
  },
  {
   "cell_type": "code",
   "execution_count": 10,
   "id": "80c2de6f",
   "metadata": {},
   "outputs": [
    {
     "data": {
      "text/plain": [
       "ProductId              258\n",
       "Product Name     Face Wash\n",
       "Product Price          350\n",
       "Name: 4, dtype: object"
      ]
     },
     "execution_count": 10,
     "metadata": {},
     "output_type": "execute_result"
    }
   ],
   "source": [
    "df.loc[4]"
   ]
  },
  {
   "cell_type": "markdown",
   "id": "d4aac142",
   "metadata": {},
   "source": [
    "3. Display separately each and every row from an above dataframe. (use loc or iloc function)"
   ]
  },
  {
   "cell_type": "code",
   "execution_count": 12,
   "id": "bb6348a7",
   "metadata": {},
   "outputs": [
    {
     "data": {
      "text/plain": [
       "ProductId         123\n",
       "Product Name     Soap\n",
       "Product Price      50\n",
       "Name: 0, dtype: object"
      ]
     },
     "execution_count": 12,
     "metadata": {},
     "output_type": "execute_result"
    }
   ],
   "source": [
    "df.loc[0]"
   ]
  },
  {
   "cell_type": "code",
   "execution_count": 13,
   "id": "c26980a7",
   "metadata": {},
   "outputs": [
    {
     "data": {
      "text/plain": [
       "ProductId          456\n",
       "Product Name     Towel\n",
       "Product Price      500\n",
       "Name: 1, dtype: object"
      ]
     },
     "execution_count": 13,
     "metadata": {},
     "output_type": "execute_result"
    }
   ],
   "source": [
    "df.loc[1]"
   ]
  },
  {
   "cell_type": "code",
   "execution_count": 14,
   "id": "75f93749",
   "metadata": {},
   "outputs": [
    {
     "data": {
      "text/plain": [
       "ProductId              789\n",
       "Product Name     Body Wash\n",
       "Product Price          800\n",
       "Name: 2, dtype: object"
      ]
     },
     "execution_count": 14,
     "metadata": {},
     "output_type": "execute_result"
    }
   ],
   "source": [
    "df.loc[2]"
   ]
  },
  {
   "cell_type": "code",
   "execution_count": 15,
   "id": "51df468f",
   "metadata": {},
   "outputs": [
    {
     "data": {
      "text/plain": [
       "ProductId           147\n",
       "Product Name     Shampo\n",
       "Product Price       750\n",
       "Name: 3, dtype: object"
      ]
     },
     "execution_count": 15,
     "metadata": {},
     "output_type": "execute_result"
    }
   ],
   "source": [
    "df.loc[3]"
   ]
  },
  {
   "cell_type": "code",
   "execution_count": 16,
   "id": "6ff8f4bc",
   "metadata": {},
   "outputs": [
    {
     "data": {
      "text/plain": [
       "ProductId              258\n",
       "Product Name     Face Wash\n",
       "Product Price          350\n",
       "Name: 4, dtype: object"
      ]
     },
     "execution_count": 16,
     "metadata": {},
     "output_type": "execute_result"
    }
   ],
   "source": [
    "df.loc[4]"
   ]
  },
  {
   "cell_type": "markdown",
   "id": "5bdd82c3",
   "metadata": {},
   "source": [
    "4. Display product name from 3 row using loc function."
   ]
  },
  {
   "cell_type": "code",
   "execution_count": 17,
   "id": "6ff633fa",
   "metadata": {},
   "outputs": [
    {
     "data": {
      "text/plain": [
       "0         Soap\n",
       "1        Towel\n",
       "2    Body Wash\n",
       "Name: Product Name, dtype: object"
      ]
     },
     "execution_count": 17,
     "metadata": {},
     "output_type": "execute_result"
    }
   ],
   "source": [
    "df['Product Name'].loc[[0,1,2]]"
   ]
  },
  {
   "cell_type": "markdown",
   "id": "c8146f6c",
   "metadata": {},
   "source": [
    "5. Display price located in 2 row using iloc function."
   ]
  },
  {
   "cell_type": "code",
   "execution_count": 18,
   "id": "99dfbfc9",
   "metadata": {},
   "outputs": [
    {
     "data": {
      "text/plain": [
       "500"
      ]
     },
     "execution_count": 18,
     "metadata": {},
     "output_type": "execute_result"
    }
   ],
   "source": [
    "df['Product Price'].iloc[1]"
   ]
  },
  {
   "cell_type": "markdown",
   "id": "db439ed9",
   "metadata": {},
   "source": [
    "6. Display 2nd to 4th row data excluding price"
   ]
  },
  {
   "cell_type": "code",
   "execution_count": 20,
   "id": "2b23f8bd",
   "metadata": {},
   "outputs": [
    {
     "data": {
      "text/html": [
       "<div>\n",
       "<style scoped>\n",
       "    .dataframe tbody tr th:only-of-type {\n",
       "        vertical-align: middle;\n",
       "    }\n",
       "\n",
       "    .dataframe tbody tr th {\n",
       "        vertical-align: top;\n",
       "    }\n",
       "\n",
       "    .dataframe thead th {\n",
       "        text-align: right;\n",
       "    }\n",
       "</style>\n",
       "<table border=\"1\" class=\"dataframe\">\n",
       "  <thead>\n",
       "    <tr style=\"text-align: right;\">\n",
       "      <th></th>\n",
       "      <th>ProductId</th>\n",
       "      <th>Product Name</th>\n",
       "    </tr>\n",
       "  </thead>\n",
       "  <tbody>\n",
       "    <tr>\n",
       "      <th>2</th>\n",
       "      <td>789</td>\n",
       "      <td>Body Wash</td>\n",
       "    </tr>\n",
       "    <tr>\n",
       "      <th>3</th>\n",
       "      <td>147</td>\n",
       "      <td>Shampo</td>\n",
       "    </tr>\n",
       "    <tr>\n",
       "      <th>4</th>\n",
       "      <td>258</td>\n",
       "      <td>Face Wash</td>\n",
       "    </tr>\n",
       "  </tbody>\n",
       "</table>\n",
       "</div>"
      ],
      "text/plain": [
       "   ProductId Product Name\n",
       "2        789    Body Wash\n",
       "3        147       Shampo\n",
       "4        258    Face Wash"
      ]
     },
     "execution_count": 20,
     "metadata": {},
     "output_type": "execute_result"
    }
   ],
   "source": [
    "df[['ProductId','Product Name']].loc[2:4]"
   ]
  },
  {
   "cell_type": "markdown",
   "id": "83e9a366",
   "metadata": {},
   "source": [
    "7. Display 1 to 3rd row price data only."
   ]
  },
  {
   "cell_type": "code",
   "execution_count": 21,
   "id": "b434bd87",
   "metadata": {},
   "outputs": [
    {
     "data": {
      "text/plain": [
       "1    500\n",
       "2    800\n",
       "3    750\n",
       "Name: Product Price, dtype: int64"
      ]
     },
     "execution_count": 21,
     "metadata": {},
     "output_type": "execute_result"
    }
   ],
   "source": [
    "df['Product Price'].loc[1:3]"
   ]
  },
  {
   "cell_type": "markdown",
   "id": "9e51792b",
   "metadata": {},
   "source": [
    "8. Change marks in python column to 41 for students who have scored less than 40."
   ]
  },
  {
   "cell_type": "code",
   "execution_count": 26,
   "id": "3e76c3c2",
   "metadata": {},
   "outputs": [
    {
     "data": {
      "text/html": [
       "<div>\n",
       "<style scoped>\n",
       "    .dataframe tbody tr th:only-of-type {\n",
       "        vertical-align: middle;\n",
       "    }\n",
       "\n",
       "    .dataframe tbody tr th {\n",
       "        vertical-align: top;\n",
       "    }\n",
       "\n",
       "    .dataframe thead th {\n",
       "        text-align: right;\n",
       "    }\n",
       "</style>\n",
       "<table border=\"1\" class=\"dataframe\">\n",
       "  <thead>\n",
       "    <tr style=\"text-align: right;\">\n",
       "      <th></th>\n",
       "      <th>Student Name</th>\n",
       "      <th>Maths</th>\n",
       "      <th>English</th>\n",
       "      <th>Science</th>\n",
       "      <th>Gujarati</th>\n",
       "      <th>Hindi</th>\n",
       "      <th>Sanskrit</th>\n",
       "    </tr>\n",
       "  </thead>\n",
       "  <tbody>\n",
       "    <tr>\n",
       "      <th>0</th>\n",
       "      <td>Dev</td>\n",
       "      <td>50</td>\n",
       "      <td>56</td>\n",
       "      <td>89</td>\n",
       "      <td>40</td>\n",
       "      <td>50</td>\n",
       "      <td>85</td>\n",
       "    </tr>\n",
       "    <tr>\n",
       "      <th>1</th>\n",
       "      <td>Mahek</td>\n",
       "      <td>84</td>\n",
       "      <td>75</td>\n",
       "      <td>64</td>\n",
       "      <td>58</td>\n",
       "      <td>74</td>\n",
       "      <td>62</td>\n",
       "    </tr>\n",
       "    <tr>\n",
       "      <th>2</th>\n",
       "      <td>Diya</td>\n",
       "      <td>55</td>\n",
       "      <td>65</td>\n",
       "      <td>74</td>\n",
       "      <td>80</td>\n",
       "      <td>52</td>\n",
       "      <td>40</td>\n",
       "    </tr>\n",
       "    <tr>\n",
       "      <th>3</th>\n",
       "      <td>Suraj</td>\n",
       "      <td>12</td>\n",
       "      <td>52</td>\n",
       "      <td>34</td>\n",
       "      <td>15</td>\n",
       "      <td>69</td>\n",
       "      <td>55</td>\n",
       "    </tr>\n",
       "    <tr>\n",
       "      <th>4</th>\n",
       "      <td>Harsh</td>\n",
       "      <td>25</td>\n",
       "      <td>40</td>\n",
       "      <td>33</td>\n",
       "      <td>10</td>\n",
       "      <td>25</td>\n",
       "      <td>60</td>\n",
       "    </tr>\n",
       "  </tbody>\n",
       "</table>\n",
       "</div>"
      ],
      "text/plain": [
       "  Student Name  Maths  English  Science  Gujarati  Hindi  Sanskrit\n",
       "0          Dev     50       56       89        40     50        85\n",
       "1        Mahek     84       75       64        58     74        62\n",
       "2         Diya     55       65       74        80     52        40\n",
       "3        Suraj     12       52       34        15     69        55\n",
       "4        Harsh     25       40       33        10     25        60"
      ]
     },
     "execution_count": 26,
     "metadata": {},
     "output_type": "execute_result"
    }
   ],
   "source": [
    "data = [[\"Dev\",50,56,89,40,50,85],\n",
    "       [\"Mahek\",84,75,64,58,74,62],\n",
    "       [\"Diya\",55,65,74,80,52,40],\n",
    "       [\"Suraj\",12,52,34,15,69,55],\n",
    "       [\"Harsh\",25,40,33,10,25,60]]\n",
    "pf = pd.DataFrame(data, columns=[\"Student Name\",\"Maths\",\"English\",\"Science\",\"Gujarati\",\"Hindi\",\"Sanskrit\"])\n",
    "pf"
   ]
  },
  {
   "cell_type": "code",
   "execution_count": 27,
   "id": "f6eace60",
   "metadata": {},
   "outputs": [
    {
     "data": {
      "text/html": [
       "<div>\n",
       "<style scoped>\n",
       "    .dataframe tbody tr th:only-of-type {\n",
       "        vertical-align: middle;\n",
       "    }\n",
       "\n",
       "    .dataframe tbody tr th {\n",
       "        vertical-align: top;\n",
       "    }\n",
       "\n",
       "    .dataframe thead th {\n",
       "        text-align: right;\n",
       "    }\n",
       "</style>\n",
       "<table border=\"1\" class=\"dataframe\">\n",
       "  <thead>\n",
       "    <tr style=\"text-align: right;\">\n",
       "      <th></th>\n",
       "      <th>Student Name</th>\n",
       "      <th>Maths</th>\n",
       "      <th>English</th>\n",
       "      <th>Science</th>\n",
       "      <th>Gujarati</th>\n",
       "      <th>Hindi</th>\n",
       "      <th>Sanskrit</th>\n",
       "    </tr>\n",
       "  </thead>\n",
       "  <tbody>\n",
       "    <tr>\n",
       "      <th>0</th>\n",
       "      <td>Dev</td>\n",
       "      <td>50</td>\n",
       "      <td>56</td>\n",
       "      <td>89</td>\n",
       "      <td>40</td>\n",
       "      <td>50</td>\n",
       "      <td>85</td>\n",
       "    </tr>\n",
       "    <tr>\n",
       "      <th>1</th>\n",
       "      <td>Mahek</td>\n",
       "      <td>84</td>\n",
       "      <td>75</td>\n",
       "      <td>64</td>\n",
       "      <td>58</td>\n",
       "      <td>74</td>\n",
       "      <td>62</td>\n",
       "    </tr>\n",
       "    <tr>\n",
       "      <th>2</th>\n",
       "      <td>Diya</td>\n",
       "      <td>55</td>\n",
       "      <td>65</td>\n",
       "      <td>74</td>\n",
       "      <td>80</td>\n",
       "      <td>52</td>\n",
       "      <td>40</td>\n",
       "    </tr>\n",
       "    <tr>\n",
       "      <th>3</th>\n",
       "      <td>Suraj</td>\n",
       "      <td>45</td>\n",
       "      <td>52</td>\n",
       "      <td>34</td>\n",
       "      <td>15</td>\n",
       "      <td>69</td>\n",
       "      <td>55</td>\n",
       "    </tr>\n",
       "    <tr>\n",
       "      <th>4</th>\n",
       "      <td>Harsh</td>\n",
       "      <td>45</td>\n",
       "      <td>40</td>\n",
       "      <td>33</td>\n",
       "      <td>10</td>\n",
       "      <td>25</td>\n",
       "      <td>60</td>\n",
       "    </tr>\n",
       "  </tbody>\n",
       "</table>\n",
       "</div>"
      ],
      "text/plain": [
       "  Student Name  Maths  English  Science  Gujarati  Hindi  Sanskrit\n",
       "0          Dev     50       56       89        40     50        85\n",
       "1        Mahek     84       75       64        58     74        62\n",
       "2         Diya     55       65       74        80     52        40\n",
       "3        Suraj     45       52       34        15     69        55\n",
       "4        Harsh     45       40       33        10     25        60"
      ]
     },
     "execution_count": 27,
     "metadata": {},
     "output_type": "execute_result"
    }
   ],
   "source": [
    "marks=pf['Maths']<40\n",
    "pf.loc[marks,'Maths']=45\n",
    "pf"
   ]
  },
  {
   "cell_type": "markdown",
   "id": "c803c6f4",
   "metadata": {},
   "source": [
    "9. Add 2 marks to all the subjects marks. If any of the marks exceeds 100 change it to 100"
   ]
  },
  {
   "cell_type": "code",
   "execution_count": 33,
   "id": "09549c11",
   "metadata": {},
   "outputs": [
    {
     "data": {
      "text/html": [
       "<div>\n",
       "<style scoped>\n",
       "    .dataframe tbody tr th:only-of-type {\n",
       "        vertical-align: middle;\n",
       "    }\n",
       "\n",
       "    .dataframe tbody tr th {\n",
       "        vertical-align: top;\n",
       "    }\n",
       "\n",
       "    .dataframe thead th {\n",
       "        text-align: right;\n",
       "    }\n",
       "</style>\n",
       "<table border=\"1\" class=\"dataframe\">\n",
       "  <thead>\n",
       "    <tr style=\"text-align: right;\">\n",
       "      <th></th>\n",
       "      <th>Data Science</th>\n",
       "      <th>OOAD</th>\n",
       "      <th>python</th>\n",
       "      <th>Maths</th>\n",
       "      <th>Java</th>\n",
       "      <th>Statistics</th>\n",
       "    </tr>\n",
       "  </thead>\n",
       "  <tbody>\n",
       "    <tr>\n",
       "      <th>Dev</th>\n",
       "      <td>52</td>\n",
       "      <td>58</td>\n",
       "      <td>91</td>\n",
       "      <td>42</td>\n",
       "      <td>52</td>\n",
       "      <td>87</td>\n",
       "    </tr>\n",
       "    <tr>\n",
       "      <th>Mahek</th>\n",
       "      <td>86</td>\n",
       "      <td>77</td>\n",
       "      <td>66</td>\n",
       "      <td>60</td>\n",
       "      <td>76</td>\n",
       "      <td>64</td>\n",
       "    </tr>\n",
       "    <tr>\n",
       "      <th>Diya</th>\n",
       "      <td>57</td>\n",
       "      <td>67</td>\n",
       "      <td>76</td>\n",
       "      <td>82</td>\n",
       "      <td>54</td>\n",
       "      <td>42</td>\n",
       "    </tr>\n",
       "    <tr>\n",
       "      <th>Suraj</th>\n",
       "      <td>14</td>\n",
       "      <td>54</td>\n",
       "      <td>36</td>\n",
       "      <td>17</td>\n",
       "      <td>71</td>\n",
       "      <td>57</td>\n",
       "    </tr>\n",
       "    <tr>\n",
       "      <th>Harsh</th>\n",
       "      <td>27</td>\n",
       "      <td>42</td>\n",
       "      <td>35</td>\n",
       "      <td>12</td>\n",
       "      <td>27</td>\n",
       "      <td>62</td>\n",
       "    </tr>\n",
       "  </tbody>\n",
       "</table>\n",
       "</div>"
      ],
      "text/plain": [
       "       Data Science  OOAD  python  Maths  Java  Statistics\n",
       "Dev              52    58      91     42    52          87\n",
       "Mahek            86    77      66     60    76          64\n",
       "Diya             57    67      76     82    54          42\n",
       "Suraj            14    54      36     17    71          57\n",
       "Harsh            27    42      35     12    27          62"
      ]
     },
     "execution_count": 33,
     "metadata": {},
     "output_type": "execute_result"
    }
   ],
   "source": [
    "data = [[50,56,89,40,50,85],\n",
    "       [84,75,64,58,74,62],\n",
    "       [55,65,74,80,52,40],\n",
    "       [12,52,34,15,69,55],\n",
    "       [25,40,33,10,25,60]]\n",
    "columns=[\"Data Science\",\"OOAD\",\"python\",\"Maths\",\"Java\",\"Statistics\"]\n",
    "index = [\"Dev\",\"Mahek\",\"Diya\",\"Suraj\",\"Harsh\"]\n",
    "df = pd.DataFrame(data, columns=columns, index=index)\n",
    "def add_marks(row):\n",
    "    return min(100, row + 2)\n",
    "df = df.applymap(add_marks)\n",
    "df"
   ]
  },
  {
   "cell_type": "markdown",
   "id": "3a32a7ac",
   "metadata": {},
   "source": [
    "10. Display students who have scored more than 50 marks in python and more than 60 marks in data science"
   ]
  },
  {
   "cell_type": "code",
   "execution_count": 35,
   "id": "d576511e",
   "metadata": {},
   "outputs": [
    {
     "data": {
      "text/html": [
       "<div>\n",
       "<style scoped>\n",
       "    .dataframe tbody tr th:only-of-type {\n",
       "        vertical-align: middle;\n",
       "    }\n",
       "\n",
       "    .dataframe tbody tr th {\n",
       "        vertical-align: top;\n",
       "    }\n",
       "\n",
       "    .dataframe thead th {\n",
       "        text-align: right;\n",
       "    }\n",
       "</style>\n",
       "<table border=\"1\" class=\"dataframe\">\n",
       "  <thead>\n",
       "    <tr style=\"text-align: right;\">\n",
       "      <th></th>\n",
       "      <th>Data Science</th>\n",
       "      <th>OOAD</th>\n",
       "      <th>python</th>\n",
       "      <th>Maths</th>\n",
       "      <th>Java</th>\n",
       "      <th>Statistics</th>\n",
       "    </tr>\n",
       "  </thead>\n",
       "  <tbody>\n",
       "    <tr>\n",
       "      <th>Dev</th>\n",
       "      <td>52</td>\n",
       "      <td>58</td>\n",
       "      <td>91</td>\n",
       "      <td>42</td>\n",
       "      <td>52</td>\n",
       "      <td>87</td>\n",
       "    </tr>\n",
       "    <tr>\n",
       "      <th>Mahek</th>\n",
       "      <td>86</td>\n",
       "      <td>77</td>\n",
       "      <td>66</td>\n",
       "      <td>60</td>\n",
       "      <td>76</td>\n",
       "      <td>64</td>\n",
       "    </tr>\n",
       "    <tr>\n",
       "      <th>Diya</th>\n",
       "      <td>57</td>\n",
       "      <td>67</td>\n",
       "      <td>76</td>\n",
       "      <td>82</td>\n",
       "      <td>54</td>\n",
       "      <td>42</td>\n",
       "    </tr>\n",
       "  </tbody>\n",
       "</table>\n",
       "</div>"
      ],
      "text/plain": [
       "       Data Science  OOAD  python  Maths  Java  Statistics\n",
       "Dev              52    58      91     42    52          87\n",
       "Mahek            86    77      66     60    76          64\n",
       "Diya             57    67      76     82    54          42"
      ]
     },
     "execution_count": 35,
     "metadata": {},
     "output_type": "execute_result"
    }
   ],
   "source": [
    "df[(df['python']>50) | (df['Data Science']>60)]"
   ]
  },
  {
   "cell_type": "markdown",
   "id": "743ff28d",
   "metadata": {},
   "source": [
    "11. Display students records whose name starts with letter S"
   ]
  },
  {
   "cell_type": "code",
   "execution_count": 36,
   "id": "f86daf64",
   "metadata": {},
   "outputs": [
    {
     "data": {
      "text/html": [
       "<div>\n",
       "<style scoped>\n",
       "    .dataframe tbody tr th:only-of-type {\n",
       "        vertical-align: middle;\n",
       "    }\n",
       "\n",
       "    .dataframe tbody tr th {\n",
       "        vertical-align: top;\n",
       "    }\n",
       "\n",
       "    .dataframe thead th {\n",
       "        text-align: right;\n",
       "    }\n",
       "</style>\n",
       "<table border=\"1\" class=\"dataframe\">\n",
       "  <thead>\n",
       "    <tr style=\"text-align: right;\">\n",
       "      <th></th>\n",
       "      <th>Data Science</th>\n",
       "      <th>OOAD</th>\n",
       "      <th>python</th>\n",
       "      <th>Maths</th>\n",
       "      <th>Java</th>\n",
       "      <th>Statistics</th>\n",
       "    </tr>\n",
       "  </thead>\n",
       "  <tbody>\n",
       "    <tr>\n",
       "      <th>Suraj</th>\n",
       "      <td>14</td>\n",
       "      <td>54</td>\n",
       "      <td>36</td>\n",
       "      <td>17</td>\n",
       "      <td>71</td>\n",
       "      <td>57</td>\n",
       "    </tr>\n",
       "  </tbody>\n",
       "</table>\n",
       "</div>"
      ],
      "text/plain": [
       "       Data Science  OOAD  python  Maths  Java  Statistics\n",
       "Suraj            14    54      36     17    71          57"
      ]
     },
     "execution_count": 36,
     "metadata": {},
     "output_type": "execute_result"
    }
   ],
   "source": [
    "df[df.index.str.startswith('S')]  "
   ]
  },
  {
   "cell_type": "markdown",
   "id": "62b05a6f",
   "metadata": {},
   "source": [
    "12. Display students records whose name ends with letter a."
   ]
  },
  {
   "cell_type": "code",
   "execution_count": 37,
   "id": "80881574",
   "metadata": {},
   "outputs": [
    {
     "data": {
      "text/html": [
       "<div>\n",
       "<style scoped>\n",
       "    .dataframe tbody tr th:only-of-type {\n",
       "        vertical-align: middle;\n",
       "    }\n",
       "\n",
       "    .dataframe tbody tr th {\n",
       "        vertical-align: top;\n",
       "    }\n",
       "\n",
       "    .dataframe thead th {\n",
       "        text-align: right;\n",
       "    }\n",
       "</style>\n",
       "<table border=\"1\" class=\"dataframe\">\n",
       "  <thead>\n",
       "    <tr style=\"text-align: right;\">\n",
       "      <th></th>\n",
       "      <th>Data Science</th>\n",
       "      <th>OOAD</th>\n",
       "      <th>python</th>\n",
       "      <th>Maths</th>\n",
       "      <th>Java</th>\n",
       "      <th>Statistics</th>\n",
       "    </tr>\n",
       "  </thead>\n",
       "  <tbody>\n",
       "    <tr>\n",
       "      <th>Diya</th>\n",
       "      <td>57</td>\n",
       "      <td>67</td>\n",
       "      <td>76</td>\n",
       "      <td>82</td>\n",
       "      <td>54</td>\n",
       "      <td>42</td>\n",
       "    </tr>\n",
       "  </tbody>\n",
       "</table>\n",
       "</div>"
      ],
      "text/plain": [
       "      Data Science  OOAD  python  Maths  Java  Statistics\n",
       "Diya            57    67      76     82    54          42"
      ]
     },
     "execution_count": 37,
     "metadata": {},
     "output_type": "execute_result"
    }
   ],
   "source": [
    "df[df.index.str.endswith('a')] "
   ]
  },
  {
   "cell_type": "markdown",
   "id": "78082d09",
   "metadata": {},
   "source": [
    "13. Calculate total and percentage for all the students."
   ]
  },
  {
   "cell_type": "code",
   "execution_count": 38,
   "id": "4485a43f",
   "metadata": {},
   "outputs": [
    {
     "data": {
      "text/html": [
       "<div>\n",
       "<style scoped>\n",
       "    .dataframe tbody tr th:only-of-type {\n",
       "        vertical-align: middle;\n",
       "    }\n",
       "\n",
       "    .dataframe tbody tr th {\n",
       "        vertical-align: top;\n",
       "    }\n",
       "\n",
       "    .dataframe thead th {\n",
       "        text-align: right;\n",
       "    }\n",
       "</style>\n",
       "<table border=\"1\" class=\"dataframe\">\n",
       "  <thead>\n",
       "    <tr style=\"text-align: right;\">\n",
       "      <th></th>\n",
       "      <th>Data Science</th>\n",
       "      <th>OOAD</th>\n",
       "      <th>python</th>\n",
       "      <th>Maths</th>\n",
       "      <th>Java</th>\n",
       "      <th>Statistics</th>\n",
       "      <th>Total</th>\n",
       "      <th>Percentage</th>\n",
       "    </tr>\n",
       "  </thead>\n",
       "  <tbody>\n",
       "    <tr>\n",
       "      <th>Dev</th>\n",
       "      <td>50</td>\n",
       "      <td>56</td>\n",
       "      <td>89</td>\n",
       "      <td>40</td>\n",
       "      <td>50</td>\n",
       "      <td>85</td>\n",
       "      <td>370</td>\n",
       "      <td>6166.666667</td>\n",
       "    </tr>\n",
       "    <tr>\n",
       "      <th>Mahek</th>\n",
       "      <td>84</td>\n",
       "      <td>75</td>\n",
       "      <td>64</td>\n",
       "      <td>58</td>\n",
       "      <td>74</td>\n",
       "      <td>62</td>\n",
       "      <td>417</td>\n",
       "      <td>6950.000000</td>\n",
       "    </tr>\n",
       "    <tr>\n",
       "      <th>Diya</th>\n",
       "      <td>55</td>\n",
       "      <td>65</td>\n",
       "      <td>74</td>\n",
       "      <td>80</td>\n",
       "      <td>52</td>\n",
       "      <td>40</td>\n",
       "      <td>366</td>\n",
       "      <td>6100.000000</td>\n",
       "    </tr>\n",
       "    <tr>\n",
       "      <th>Suraj</th>\n",
       "      <td>12</td>\n",
       "      <td>52</td>\n",
       "      <td>34</td>\n",
       "      <td>15</td>\n",
       "      <td>69</td>\n",
       "      <td>55</td>\n",
       "      <td>237</td>\n",
       "      <td>3950.000000</td>\n",
       "    </tr>\n",
       "    <tr>\n",
       "      <th>Harsh</th>\n",
       "      <td>25</td>\n",
       "      <td>40</td>\n",
       "      <td>33</td>\n",
       "      <td>10</td>\n",
       "      <td>25</td>\n",
       "      <td>60</td>\n",
       "      <td>193</td>\n",
       "      <td>3216.666667</td>\n",
       "    </tr>\n",
       "  </tbody>\n",
       "</table>\n",
       "</div>"
      ],
      "text/plain": [
       "       Data Science  OOAD  python  Maths  Java  Statistics  Total   Percentage\n",
       "Dev              50    56      89     40    50          85    370  6166.666667\n",
       "Mahek            84    75      64     58    74          62    417  6950.000000\n",
       "Diya             55    65      74     80    52          40    366  6100.000000\n",
       "Suraj            12    52      34     15    69          55    237  3950.000000\n",
       "Harsh            25    40      33     10    25          60    193  3216.666667"
      ]
     },
     "execution_count": 38,
     "metadata": {},
     "output_type": "execute_result"
    }
   ],
   "source": [
    "data = [[50,56,89,40,50,85],\n",
    "       [84,75,64,58,74,62],\n",
    "       [55,65,74,80,52,40],\n",
    "       [12,52,34,15,69,55],\n",
    "       [25,40,33,10,25,60]]\n",
    "columns=[\"Data Science\",\"OOAD\",\"python\",\"Maths\",\"Java\",\"Statistics\"]\n",
    "index = [\"Dev\",\"Mahek\",\"Diya\",\"Suraj\",\"Harsh\"]\n",
    "df = pd.DataFrame(data, columns=columns, index=index)\n",
    "df['Total'] = df.sum(axis=1)\n",
    "df['Percentage'] = (df['Total'] / len(columns)) * 100\n",
    "df"
   ]
  },
  {
   "cell_type": "markdown",
   "id": "c2e83993",
   "metadata": {},
   "source": [
    "14. Calculate Status (PASS / FAIL) for the Students."
   ]
  },
  {
   "cell_type": "code",
   "execution_count": 39,
   "id": "a2639fbe",
   "metadata": {},
   "outputs": [
    {
     "data": {
      "text/plain": [
       "Dev      PASS\n",
       "Mahek    PASS\n",
       "Diya     PASS\n",
       "Suraj    PASS\n",
       "Harsh    PASS\n",
       "dtype: object"
      ]
     },
     "execution_count": 39,
     "metadata": {},
     "output_type": "execute_result"
    }
   ],
   "source": [
    "df.apply(lambda row: 'PASS' if row['Percentage'] >= 60 else 'FAIL', axis=1)"
   ]
  },
  {
   "cell_type": "markdown",
   "id": "9cfafc86",
   "metadata": {},
   "source": [
    "15. Calculate percentage based grade value (per>=90 then A-grade, per>=80 then B-grade, per>=70 then C-grade, per>=60 then D-grade, per>=50 then E-grade, per<50 then Fgrade)"
   ]
  },
  {
   "cell_type": "code",
   "execution_count": 40,
   "id": "57693f1d",
   "metadata": {},
   "outputs": [
    {
     "data": {
      "text/html": [
       "<div>\n",
       "<style scoped>\n",
       "    .dataframe tbody tr th:only-of-type {\n",
       "        vertical-align: middle;\n",
       "    }\n",
       "\n",
       "    .dataframe tbody tr th {\n",
       "        vertical-align: top;\n",
       "    }\n",
       "\n",
       "    .dataframe thead th {\n",
       "        text-align: right;\n",
       "    }\n",
       "</style>\n",
       "<table border=\"1\" class=\"dataframe\">\n",
       "  <thead>\n",
       "    <tr style=\"text-align: right;\">\n",
       "      <th></th>\n",
       "      <th>Data Science</th>\n",
       "      <th>OOAD</th>\n",
       "      <th>python</th>\n",
       "      <th>Maths</th>\n",
       "      <th>Java</th>\n",
       "      <th>Statistics</th>\n",
       "      <th>Total</th>\n",
       "      <th>Percentage</th>\n",
       "      <th>Grade</th>\n",
       "    </tr>\n",
       "  </thead>\n",
       "  <tbody>\n",
       "    <tr>\n",
       "      <th>Dev</th>\n",
       "      <td>50</td>\n",
       "      <td>56</td>\n",
       "      <td>89</td>\n",
       "      <td>40</td>\n",
       "      <td>50</td>\n",
       "      <td>85</td>\n",
       "      <td>370</td>\n",
       "      <td>863.333333</td>\n",
       "      <td>A</td>\n",
       "    </tr>\n",
       "    <tr>\n",
       "      <th>Mahek</th>\n",
       "      <td>84</td>\n",
       "      <td>75</td>\n",
       "      <td>64</td>\n",
       "      <td>58</td>\n",
       "      <td>74</td>\n",
       "      <td>62</td>\n",
       "      <td>417</td>\n",
       "      <td>973.000000</td>\n",
       "      <td>A</td>\n",
       "    </tr>\n",
       "    <tr>\n",
       "      <th>Diya</th>\n",
       "      <td>55</td>\n",
       "      <td>65</td>\n",
       "      <td>74</td>\n",
       "      <td>80</td>\n",
       "      <td>52</td>\n",
       "      <td>40</td>\n",
       "      <td>366</td>\n",
       "      <td>854.000000</td>\n",
       "      <td>A</td>\n",
       "    </tr>\n",
       "    <tr>\n",
       "      <th>Suraj</th>\n",
       "      <td>12</td>\n",
       "      <td>52</td>\n",
       "      <td>34</td>\n",
       "      <td>15</td>\n",
       "      <td>69</td>\n",
       "      <td>55</td>\n",
       "      <td>237</td>\n",
       "      <td>553.000000</td>\n",
       "      <td>A</td>\n",
       "    </tr>\n",
       "    <tr>\n",
       "      <th>Harsh</th>\n",
       "      <td>25</td>\n",
       "      <td>40</td>\n",
       "      <td>33</td>\n",
       "      <td>10</td>\n",
       "      <td>25</td>\n",
       "      <td>60</td>\n",
       "      <td>193</td>\n",
       "      <td>450.333333</td>\n",
       "      <td>A</td>\n",
       "    </tr>\n",
       "  </tbody>\n",
       "</table>\n",
       "</div>"
      ],
      "text/plain": [
       "       Data Science  OOAD  python  Maths  Java  Statistics  Total  Percentage  \\\n",
       "Dev              50    56      89     40    50          85    370  863.333333   \n",
       "Mahek            84    75      64     58    74          62    417  973.000000   \n",
       "Diya             55    65      74     80    52          40    366  854.000000   \n",
       "Suraj            12    52      34     15    69          55    237  553.000000   \n",
       "Harsh            25    40      33     10    25          60    193  450.333333   \n",
       "\n",
       "      Grade  \n",
       "Dev       A  \n",
       "Mahek     A  \n",
       "Diya      A  \n",
       "Suraj     A  \n",
       "Harsh     A  "
      ]
     },
     "execution_count": 40,
     "metadata": {},
     "output_type": "execute_result"
    }
   ],
   "source": [
    "df['Percentage'] = df.mean(axis=1)\n",
    "def get_grade(percentage):\n",
    "    if percentage >= 90:\n",
    "        return 'A'\n",
    "    elif percentage >= 80:\n",
    "        return 'B'\n",
    "    elif percentage >= 70:\n",
    "        return 'C'\n",
    "    elif percentage >= 60:\n",
    "        return 'D'\n",
    "    elif percentage >= 50:\n",
    "        return 'E'\n",
    "    else:\n",
    "        return 'F'\n",
    "df['Grade'] = df['Percentage'].apply(get_grade)\n",
    "df"
   ]
  },
  {
   "cell_type": "markdown",
   "id": "eb5d6117",
   "metadata": {},
   "source": [
    "16. Also calculate overall columns total, maximum, minimum and standard deviation for each numeric columns "
   ]
  },
  {
   "cell_type": "code",
   "execution_count": 41,
   "id": "ace8dc4c",
   "metadata": {},
   "outputs": [
    {
     "data": {
      "text/html": [
       "<div>\n",
       "<style scoped>\n",
       "    .dataframe tbody tr th:only-of-type {\n",
       "        vertical-align: middle;\n",
       "    }\n",
       "\n",
       "    .dataframe tbody tr th {\n",
       "        vertical-align: top;\n",
       "    }\n",
       "\n",
       "    .dataframe thead th {\n",
       "        text-align: right;\n",
       "    }\n",
       "</style>\n",
       "<table border=\"1\" class=\"dataframe\">\n",
       "  <thead>\n",
       "    <tr style=\"text-align: right;\">\n",
       "      <th></th>\n",
       "      <th>Total</th>\n",
       "      <th>Maximum</th>\n",
       "      <th>Minimum</th>\n",
       "      <th>Standard Deviation</th>\n",
       "    </tr>\n",
       "  </thead>\n",
       "  <tbody>\n",
       "    <tr>\n",
       "      <th>Data Science</th>\n",
       "      <td>226</td>\n",
       "      <td>84</td>\n",
       "      <td>12</td>\n",
       "      <td>27.994642</td>\n",
       "    </tr>\n",
       "    <tr>\n",
       "      <th>OOAD</th>\n",
       "      <td>288</td>\n",
       "      <td>75</td>\n",
       "      <td>40</td>\n",
       "      <td>13.240091</td>\n",
       "    </tr>\n",
       "    <tr>\n",
       "      <th>python</th>\n",
       "      <td>294</td>\n",
       "      <td>89</td>\n",
       "      <td>33</td>\n",
       "      <td>24.752778</td>\n",
       "    </tr>\n",
       "    <tr>\n",
       "      <th>Maths</th>\n",
       "      <td>203</td>\n",
       "      <td>80</td>\n",
       "      <td>10</td>\n",
       "      <td>29.356430</td>\n",
       "    </tr>\n",
       "    <tr>\n",
       "      <th>Java</th>\n",
       "      <td>270</td>\n",
       "      <td>74</td>\n",
       "      <td>25</td>\n",
       "      <td>19.274335</td>\n",
       "    </tr>\n",
       "    <tr>\n",
       "      <th>Statistics</th>\n",
       "      <td>302</td>\n",
       "      <td>85</td>\n",
       "      <td>40</td>\n",
       "      <td>16.226522</td>\n",
       "    </tr>\n",
       "  </tbody>\n",
       "</table>\n",
       "</div>"
      ],
      "text/plain": [
       "              Total  Maximum  Minimum  Standard Deviation\n",
       "Data Science    226       84       12           27.994642\n",
       "OOAD            288       75       40           13.240091\n",
       "python          294       89       33           24.752778\n",
       "Maths           203       80       10           29.356430\n",
       "Java            270       74       25           19.274335\n",
       "Statistics      302       85       40           16.226522"
      ]
     },
     "execution_count": 41,
     "metadata": {},
     "output_type": "execute_result"
    }
   ],
   "source": [
    "df = pd.DataFrame(data, columns=columns, index=index)\n",
    "results = pd.DataFrame({\n",
    "    'Total': df.sum(),\n",
    "    'Maximum': df.max(),\n",
    "    'Minimum': df.min(),\n",
    "    'Standard Deviation': df.std()\n",
    "})\n",
    "results"
   ]
  },
  {
   "cell_type": "markdown",
   "id": "4f31c87d",
   "metadata": {},
   "source": [
    "17. Display meta-data for each column for the above dataframe."
   ]
  },
  {
   "cell_type": "code",
   "execution_count": 42,
   "id": "1b8aff0c",
   "metadata": {},
   "outputs": [
    {
     "name": "stdout",
     "output_type": "stream",
     "text": [
      "<class 'pandas.core.frame.DataFrame'>\n",
      "Index: 5 entries, Dev to Harsh\n",
      "Data columns (total 6 columns):\n",
      " #   Column        Non-Null Count  Dtype\n",
      "---  ------        --------------  -----\n",
      " 0   Data Science  5 non-null      int64\n",
      " 1   OOAD          5 non-null      int64\n",
      " 2   python        5 non-null      int64\n",
      " 3   Maths         5 non-null      int64\n",
      " 4   Java          5 non-null      int64\n",
      " 5   Statistics    5 non-null      int64\n",
      "dtypes: int64(6)\n",
      "memory usage: 280.0+ bytes\n"
     ]
    }
   ],
   "source": [
    "df.info()"
   ]
  },
  {
   "cell_type": "markdown",
   "id": "eb295961",
   "metadata": {},
   "source": [
    "18.Convert the above DataFrame to list within a dictionary."
   ]
  },
  {
   "cell_type": "code",
   "execution_count": 43,
   "id": "e29c321b",
   "metadata": {},
   "outputs": [
    {
     "data": {
      "text/plain": [
       "{'Data Science': [50, 84, 55, 12, 25],\n",
       " 'OOAD': [56, 75, 65, 52, 40],\n",
       " 'python': [89, 64, 74, 34, 33],\n",
       " 'Maths': [40, 58, 80, 15, 10],\n",
       " 'Java': [50, 74, 52, 69, 25],\n",
       " 'Statistics': [85, 62, 40, 55, 60]}"
      ]
     },
     "execution_count": 43,
     "metadata": {},
     "output_type": "execute_result"
    }
   ],
   "source": [
    "dict_list = df.to_dict(orient='list')\n",
    "dict_list"
   ]
  },
  {
   "cell_type": "markdown",
   "id": "7df03cb2",
   "metadata": {},
   "source": [
    "19. Convert this dictionary again to a separate dataframe by adding 500 to each element in product price column."
   ]
  },
  {
   "cell_type": "code",
   "execution_count": 44,
   "id": "f8417a1d",
   "metadata": {},
   "outputs": [
    {
     "data": {
      "text/html": [
       "<div>\n",
       "<style scoped>\n",
       "    .dataframe tbody tr th:only-of-type {\n",
       "        vertical-align: middle;\n",
       "    }\n",
       "\n",
       "    .dataframe tbody tr th {\n",
       "        vertical-align: top;\n",
       "    }\n",
       "\n",
       "    .dataframe thead th {\n",
       "        text-align: right;\n",
       "    }\n",
       "</style>\n",
       "<table border=\"1\" class=\"dataframe\">\n",
       "  <thead>\n",
       "    <tr style=\"text-align: right;\">\n",
       "      <th></th>\n",
       "      <th>Product ID</th>\n",
       "      <th>Product Name</th>\n",
       "      <th>Product Price</th>\n",
       "    </tr>\n",
       "  </thead>\n",
       "  <tbody>\n",
       "    <tr>\n",
       "      <th>0</th>\n",
       "      <td>201</td>\n",
       "      <td>Face Wash</td>\n",
       "      <td>860</td>\n",
       "    </tr>\n",
       "    <tr>\n",
       "      <th>1</th>\n",
       "      <td>202</td>\n",
       "      <td>Shampo</td>\n",
       "      <td>1100</td>\n",
       "    </tr>\n",
       "    <tr>\n",
       "      <th>2</th>\n",
       "      <td>203</td>\n",
       "      <td>Body Wash</td>\n",
       "      <td>1280</td>\n",
       "    </tr>\n",
       "    <tr>\n",
       "      <th>3</th>\n",
       "      <td>204</td>\n",
       "      <td>Soap</td>\n",
       "      <td>515</td>\n",
       "    </tr>\n",
       "    <tr>\n",
       "      <th>4</th>\n",
       "      <td>205</td>\n",
       "      <td>Towel</td>\n",
       "      <td>700</td>\n",
       "    </tr>\n",
       "  </tbody>\n",
       "</table>\n",
       "</div>"
      ],
      "text/plain": [
       "   Product ID Product Name  Product Price\n",
       "0         201    Face Wash            860\n",
       "1         202       Shampo           1100\n",
       "2         203    Body Wash           1280\n",
       "3         204         Soap            515\n",
       "4         205        Towel            700"
      ]
     },
     "execution_count": 44,
     "metadata": {},
     "output_type": "execute_result"
    }
   ],
   "source": [
    "import pandas as pd\n",
    "\n",
    "productId = [201, 202, 203, 204, 205]\n",
    "productName = ['Face Wash', 'Shampo', 'Body Wash', 'Soap', 'Towel']\n",
    "productPrice = [360, 600, 780, 15, 200]\n",
    "\n",
    "df = pd.DataFrame({'Product ID': productId, 'Product Name': productName, 'Product Price': productPrice})\n",
    "df['Product Price'] += 500\n",
    "df"
   ]
  },
  {
   "cell_type": "markdown",
   "id": "7426f79c",
   "metadata": {},
   "source": [
    "TASK-2"
   ]
  },
  {
   "cell_type": "markdown",
   "id": "6eff2d87",
   "metadata": {},
   "source": [
    "1. Import pandas as pd"
   ]
  },
  {
   "cell_type": "code",
   "execution_count": 3,
   "id": "b81f0aa3",
   "metadata": {},
   "outputs": [],
   "source": [
    "import pandas as pd"
   ]
  },
  {
   "cell_type": "markdown",
   "id": "e027c470",
   "metadata": {},
   "source": [
    "2. Read Salaries.csv as a dataframe called sal."
   ]
  },
  {
   "cell_type": "code",
   "execution_count": 4,
   "id": "786812fb",
   "metadata": {},
   "outputs": [
    {
     "name": "stderr",
     "output_type": "stream",
     "text": [
      "C:\\Users\\Lenovo\\AppData\\Local\\Temp\\ipykernel_23136\\1798377461.py:1: DtypeWarning: Columns (3,4,5,6,12) have mixed types. Specify dtype option on import or set low_memory=False.\n",
      "  sal = pd.read_csv('Salaries.csv')\n"
     ]
    },
    {
     "data": {
      "text/html": [
       "<div>\n",
       "<style scoped>\n",
       "    .dataframe tbody tr th:only-of-type {\n",
       "        vertical-align: middle;\n",
       "    }\n",
       "\n",
       "    .dataframe tbody tr th {\n",
       "        vertical-align: top;\n",
       "    }\n",
       "\n",
       "    .dataframe thead th {\n",
       "        text-align: right;\n",
       "    }\n",
       "</style>\n",
       "<table border=\"1\" class=\"dataframe\">\n",
       "  <thead>\n",
       "    <tr style=\"text-align: right;\">\n",
       "      <th></th>\n",
       "      <th>Id</th>\n",
       "      <th>EmployeeName</th>\n",
       "      <th>JobTitle</th>\n",
       "      <th>BasePay</th>\n",
       "      <th>OvertimePay</th>\n",
       "      <th>OtherPay</th>\n",
       "      <th>Benefits</th>\n",
       "      <th>TotalPay</th>\n",
       "      <th>TotalPayBenefits</th>\n",
       "      <th>Year</th>\n",
       "      <th>Notes</th>\n",
       "      <th>Agency</th>\n",
       "      <th>Status</th>\n",
       "    </tr>\n",
       "  </thead>\n",
       "  <tbody>\n",
       "    <tr>\n",
       "      <th>0</th>\n",
       "      <td>1</td>\n",
       "      <td>NATHANIEL FORD</td>\n",
       "      <td>GENERAL MANAGER-METROPOLITAN TRANSIT AUTHORITY</td>\n",
       "      <td>167411.18</td>\n",
       "      <td>0.0</td>\n",
       "      <td>400184.25</td>\n",
       "      <td>NaN</td>\n",
       "      <td>567595.43</td>\n",
       "      <td>567595.43</td>\n",
       "      <td>2011</td>\n",
       "      <td>NaN</td>\n",
       "      <td>San Francisco</td>\n",
       "      <td>NaN</td>\n",
       "    </tr>\n",
       "    <tr>\n",
       "      <th>1</th>\n",
       "      <td>2</td>\n",
       "      <td>GARY JIMENEZ</td>\n",
       "      <td>CAPTAIN III (POLICE DEPARTMENT)</td>\n",
       "      <td>155966.02</td>\n",
       "      <td>245131.88</td>\n",
       "      <td>137811.38</td>\n",
       "      <td>NaN</td>\n",
       "      <td>538909.28</td>\n",
       "      <td>538909.28</td>\n",
       "      <td>2011</td>\n",
       "      <td>NaN</td>\n",
       "      <td>San Francisco</td>\n",
       "      <td>NaN</td>\n",
       "    </tr>\n",
       "    <tr>\n",
       "      <th>2</th>\n",
       "      <td>3</td>\n",
       "      <td>ALBERT PARDINI</td>\n",
       "      <td>CAPTAIN III (POLICE DEPARTMENT)</td>\n",
       "      <td>212739.13</td>\n",
       "      <td>106088.18</td>\n",
       "      <td>16452.6</td>\n",
       "      <td>NaN</td>\n",
       "      <td>335279.91</td>\n",
       "      <td>335279.91</td>\n",
       "      <td>2011</td>\n",
       "      <td>NaN</td>\n",
       "      <td>San Francisco</td>\n",
       "      <td>NaN</td>\n",
       "    </tr>\n",
       "    <tr>\n",
       "      <th>3</th>\n",
       "      <td>4</td>\n",
       "      <td>CHRISTOPHER CHONG</td>\n",
       "      <td>WIRE ROPE CABLE MAINTENANCE MECHANIC</td>\n",
       "      <td>77916.0</td>\n",
       "      <td>56120.71</td>\n",
       "      <td>198306.9</td>\n",
       "      <td>NaN</td>\n",
       "      <td>332343.61</td>\n",
       "      <td>332343.61</td>\n",
       "      <td>2011</td>\n",
       "      <td>NaN</td>\n",
       "      <td>San Francisco</td>\n",
       "      <td>NaN</td>\n",
       "    </tr>\n",
       "    <tr>\n",
       "      <th>4</th>\n",
       "      <td>5</td>\n",
       "      <td>PATRICK GARDNER</td>\n",
       "      <td>DEPUTY CHIEF OF DEPARTMENT,(FIRE DEPARTMENT)</td>\n",
       "      <td>134401.6</td>\n",
       "      <td>9737.0</td>\n",
       "      <td>182234.59</td>\n",
       "      <td>NaN</td>\n",
       "      <td>326373.19</td>\n",
       "      <td>326373.19</td>\n",
       "      <td>2011</td>\n",
       "      <td>NaN</td>\n",
       "      <td>San Francisco</td>\n",
       "      <td>NaN</td>\n",
       "    </tr>\n",
       "    <tr>\n",
       "      <th>...</th>\n",
       "      <td>...</td>\n",
       "      <td>...</td>\n",
       "      <td>...</td>\n",
       "      <td>...</td>\n",
       "      <td>...</td>\n",
       "      <td>...</td>\n",
       "      <td>...</td>\n",
       "      <td>...</td>\n",
       "      <td>...</td>\n",
       "      <td>...</td>\n",
       "      <td>...</td>\n",
       "      <td>...</td>\n",
       "      <td>...</td>\n",
       "    </tr>\n",
       "    <tr>\n",
       "      <th>148649</th>\n",
       "      <td>148650</td>\n",
       "      <td>Roy I Tillery</td>\n",
       "      <td>Custodian</td>\n",
       "      <td>0.00</td>\n",
       "      <td>0.00</td>\n",
       "      <td>0.00</td>\n",
       "      <td>0.00</td>\n",
       "      <td>0.00</td>\n",
       "      <td>0.00</td>\n",
       "      <td>2014</td>\n",
       "      <td>NaN</td>\n",
       "      <td>San Francisco</td>\n",
       "      <td>PT</td>\n",
       "    </tr>\n",
       "    <tr>\n",
       "      <th>148650</th>\n",
       "      <td>148651</td>\n",
       "      <td>Not provided</td>\n",
       "      <td>Not provided</td>\n",
       "      <td>Not Provided</td>\n",
       "      <td>Not Provided</td>\n",
       "      <td>Not Provided</td>\n",
       "      <td>Not Provided</td>\n",
       "      <td>0.00</td>\n",
       "      <td>0.00</td>\n",
       "      <td>2014</td>\n",
       "      <td>NaN</td>\n",
       "      <td>San Francisco</td>\n",
       "      <td>NaN</td>\n",
       "    </tr>\n",
       "    <tr>\n",
       "      <th>148651</th>\n",
       "      <td>148652</td>\n",
       "      <td>Not provided</td>\n",
       "      <td>Not provided</td>\n",
       "      <td>Not Provided</td>\n",
       "      <td>Not Provided</td>\n",
       "      <td>Not Provided</td>\n",
       "      <td>Not Provided</td>\n",
       "      <td>0.00</td>\n",
       "      <td>0.00</td>\n",
       "      <td>2014</td>\n",
       "      <td>NaN</td>\n",
       "      <td>San Francisco</td>\n",
       "      <td>NaN</td>\n",
       "    </tr>\n",
       "    <tr>\n",
       "      <th>148652</th>\n",
       "      <td>148653</td>\n",
       "      <td>Not provided</td>\n",
       "      <td>Not provided</td>\n",
       "      <td>Not Provided</td>\n",
       "      <td>Not Provided</td>\n",
       "      <td>Not Provided</td>\n",
       "      <td>Not Provided</td>\n",
       "      <td>0.00</td>\n",
       "      <td>0.00</td>\n",
       "      <td>2014</td>\n",
       "      <td>NaN</td>\n",
       "      <td>San Francisco</td>\n",
       "      <td>NaN</td>\n",
       "    </tr>\n",
       "    <tr>\n",
       "      <th>148653</th>\n",
       "      <td>148654</td>\n",
       "      <td>Joe Lopez</td>\n",
       "      <td>Counselor, Log Cabin Ranch</td>\n",
       "      <td>0.00</td>\n",
       "      <td>0.00</td>\n",
       "      <td>-618.13</td>\n",
       "      <td>0.00</td>\n",
       "      <td>-618.13</td>\n",
       "      <td>-618.13</td>\n",
       "      <td>2014</td>\n",
       "      <td>NaN</td>\n",
       "      <td>San Francisco</td>\n",
       "      <td>PT</td>\n",
       "    </tr>\n",
       "  </tbody>\n",
       "</table>\n",
       "<p>148654 rows × 13 columns</p>\n",
       "</div>"
      ],
      "text/plain": [
       "            Id       EmployeeName  \\\n",
       "0            1     NATHANIEL FORD   \n",
       "1            2       GARY JIMENEZ   \n",
       "2            3     ALBERT PARDINI   \n",
       "3            4  CHRISTOPHER CHONG   \n",
       "4            5    PATRICK GARDNER   \n",
       "...        ...                ...   \n",
       "148649  148650      Roy I Tillery   \n",
       "148650  148651       Not provided   \n",
       "148651  148652       Not provided   \n",
       "148652  148653       Not provided   \n",
       "148653  148654          Joe Lopez   \n",
       "\n",
       "                                              JobTitle       BasePay  \\\n",
       "0       GENERAL MANAGER-METROPOLITAN TRANSIT AUTHORITY     167411.18   \n",
       "1                      CAPTAIN III (POLICE DEPARTMENT)     155966.02   \n",
       "2                      CAPTAIN III (POLICE DEPARTMENT)     212739.13   \n",
       "3                 WIRE ROPE CABLE MAINTENANCE MECHANIC       77916.0   \n",
       "4         DEPUTY CHIEF OF DEPARTMENT,(FIRE DEPARTMENT)      134401.6   \n",
       "...                                                ...           ...   \n",
       "148649                                       Custodian          0.00   \n",
       "148650                                    Not provided  Not Provided   \n",
       "148651                                    Not provided  Not Provided   \n",
       "148652                                    Not provided  Not Provided   \n",
       "148653                      Counselor, Log Cabin Ranch          0.00   \n",
       "\n",
       "         OvertimePay      OtherPay      Benefits   TotalPay  TotalPayBenefits  \\\n",
       "0                0.0     400184.25           NaN  567595.43         567595.43   \n",
       "1          245131.88     137811.38           NaN  538909.28         538909.28   \n",
       "2          106088.18       16452.6           NaN  335279.91         335279.91   \n",
       "3           56120.71      198306.9           NaN  332343.61         332343.61   \n",
       "4             9737.0     182234.59           NaN  326373.19         326373.19   \n",
       "...              ...           ...           ...        ...               ...   \n",
       "148649          0.00          0.00          0.00       0.00              0.00   \n",
       "148650  Not Provided  Not Provided  Not Provided       0.00              0.00   \n",
       "148651  Not Provided  Not Provided  Not Provided       0.00              0.00   \n",
       "148652  Not Provided  Not Provided  Not Provided       0.00              0.00   \n",
       "148653          0.00       -618.13          0.00    -618.13           -618.13   \n",
       "\n",
       "        Year  Notes         Agency Status  \n",
       "0       2011    NaN  San Francisco    NaN  \n",
       "1       2011    NaN  San Francisco    NaN  \n",
       "2       2011    NaN  San Francisco    NaN  \n",
       "3       2011    NaN  San Francisco    NaN  \n",
       "4       2011    NaN  San Francisco    NaN  \n",
       "...      ...    ...            ...    ...  \n",
       "148649  2014    NaN  San Francisco     PT  \n",
       "148650  2014    NaN  San Francisco    NaN  \n",
       "148651  2014    NaN  San Francisco    NaN  \n",
       "148652  2014    NaN  San Francisco    NaN  \n",
       "148653  2014    NaN  San Francisco     PT  \n",
       "\n",
       "[148654 rows x 13 columns]"
      ]
     },
     "execution_count": 4,
     "metadata": {},
     "output_type": "execute_result"
    }
   ],
   "source": [
    "sal = pd.read_csv('Salaries.csv')\n",
    "sal"
   ]
  },
  {
   "cell_type": "markdown",
   "id": "31905cff",
   "metadata": {},
   "source": [
    "3. Check the head of the DataFrame."
   ]
  },
  {
   "cell_type": "code",
   "execution_count": 48,
   "id": "3c78001f",
   "metadata": {},
   "outputs": [
    {
     "data": {
      "text/html": [
       "<div>\n",
       "<style scoped>\n",
       "    .dataframe tbody tr th:only-of-type {\n",
       "        vertical-align: middle;\n",
       "    }\n",
       "\n",
       "    .dataframe tbody tr th {\n",
       "        vertical-align: top;\n",
       "    }\n",
       "\n",
       "    .dataframe thead th {\n",
       "        text-align: right;\n",
       "    }\n",
       "</style>\n",
       "<table border=\"1\" class=\"dataframe\">\n",
       "  <thead>\n",
       "    <tr style=\"text-align: right;\">\n",
       "      <th></th>\n",
       "      <th>Id</th>\n",
       "      <th>EmployeeName</th>\n",
       "      <th>JobTitle</th>\n",
       "      <th>BasePay</th>\n",
       "      <th>OvertimePay</th>\n",
       "      <th>OtherPay</th>\n",
       "      <th>Benefits</th>\n",
       "      <th>TotalPay</th>\n",
       "      <th>TotalPayBenefits</th>\n",
       "      <th>Year</th>\n",
       "      <th>Notes</th>\n",
       "      <th>Agency</th>\n",
       "      <th>Status</th>\n",
       "    </tr>\n",
       "  </thead>\n",
       "  <tbody>\n",
       "    <tr>\n",
       "      <th>0</th>\n",
       "      <td>1</td>\n",
       "      <td>NATHANIEL FORD</td>\n",
       "      <td>GENERAL MANAGER-METROPOLITAN TRANSIT AUTHORITY</td>\n",
       "      <td>167411.18</td>\n",
       "      <td>0.0</td>\n",
       "      <td>400184.25</td>\n",
       "      <td>NaN</td>\n",
       "      <td>567595.43</td>\n",
       "      <td>567595.43</td>\n",
       "      <td>2011</td>\n",
       "      <td>NaN</td>\n",
       "      <td>San Francisco</td>\n",
       "      <td>NaN</td>\n",
       "    </tr>\n",
       "    <tr>\n",
       "      <th>1</th>\n",
       "      <td>2</td>\n",
       "      <td>GARY JIMENEZ</td>\n",
       "      <td>CAPTAIN III (POLICE DEPARTMENT)</td>\n",
       "      <td>155966.02</td>\n",
       "      <td>245131.88</td>\n",
       "      <td>137811.38</td>\n",
       "      <td>NaN</td>\n",
       "      <td>538909.28</td>\n",
       "      <td>538909.28</td>\n",
       "      <td>2011</td>\n",
       "      <td>NaN</td>\n",
       "      <td>San Francisco</td>\n",
       "      <td>NaN</td>\n",
       "    </tr>\n",
       "    <tr>\n",
       "      <th>2</th>\n",
       "      <td>3</td>\n",
       "      <td>ALBERT PARDINI</td>\n",
       "      <td>CAPTAIN III (POLICE DEPARTMENT)</td>\n",
       "      <td>212739.13</td>\n",
       "      <td>106088.18</td>\n",
       "      <td>16452.6</td>\n",
       "      <td>NaN</td>\n",
       "      <td>335279.91</td>\n",
       "      <td>335279.91</td>\n",
       "      <td>2011</td>\n",
       "      <td>NaN</td>\n",
       "      <td>San Francisco</td>\n",
       "      <td>NaN</td>\n",
       "    </tr>\n",
       "    <tr>\n",
       "      <th>3</th>\n",
       "      <td>4</td>\n",
       "      <td>CHRISTOPHER CHONG</td>\n",
       "      <td>WIRE ROPE CABLE MAINTENANCE MECHANIC</td>\n",
       "      <td>77916.0</td>\n",
       "      <td>56120.71</td>\n",
       "      <td>198306.9</td>\n",
       "      <td>NaN</td>\n",
       "      <td>332343.61</td>\n",
       "      <td>332343.61</td>\n",
       "      <td>2011</td>\n",
       "      <td>NaN</td>\n",
       "      <td>San Francisco</td>\n",
       "      <td>NaN</td>\n",
       "    </tr>\n",
       "    <tr>\n",
       "      <th>4</th>\n",
       "      <td>5</td>\n",
       "      <td>PATRICK GARDNER</td>\n",
       "      <td>DEPUTY CHIEF OF DEPARTMENT,(FIRE DEPARTMENT)</td>\n",
       "      <td>134401.6</td>\n",
       "      <td>9737.0</td>\n",
       "      <td>182234.59</td>\n",
       "      <td>NaN</td>\n",
       "      <td>326373.19</td>\n",
       "      <td>326373.19</td>\n",
       "      <td>2011</td>\n",
       "      <td>NaN</td>\n",
       "      <td>San Francisco</td>\n",
       "      <td>NaN</td>\n",
       "    </tr>\n",
       "  </tbody>\n",
       "</table>\n",
       "</div>"
      ],
      "text/plain": [
       "   Id       EmployeeName                                        JobTitle  \\\n",
       "0   1     NATHANIEL FORD  GENERAL MANAGER-METROPOLITAN TRANSIT AUTHORITY   \n",
       "1   2       GARY JIMENEZ                 CAPTAIN III (POLICE DEPARTMENT)   \n",
       "2   3     ALBERT PARDINI                 CAPTAIN III (POLICE DEPARTMENT)   \n",
       "3   4  CHRISTOPHER CHONG            WIRE ROPE CABLE MAINTENANCE MECHANIC   \n",
       "4   5    PATRICK GARDNER    DEPUTY CHIEF OF DEPARTMENT,(FIRE DEPARTMENT)   \n",
       "\n",
       "     BasePay OvertimePay   OtherPay Benefits   TotalPay  TotalPayBenefits  \\\n",
       "0  167411.18         0.0  400184.25      NaN  567595.43         567595.43   \n",
       "1  155966.02   245131.88  137811.38      NaN  538909.28         538909.28   \n",
       "2  212739.13   106088.18    16452.6      NaN  335279.91         335279.91   \n",
       "3    77916.0    56120.71   198306.9      NaN  332343.61         332343.61   \n",
       "4   134401.6      9737.0  182234.59      NaN  326373.19         326373.19   \n",
       "\n",
       "   Year  Notes         Agency Status  \n",
       "0  2011    NaN  San Francisco    NaN  \n",
       "1  2011    NaN  San Francisco    NaN  \n",
       "2  2011    NaN  San Francisco    NaN  \n",
       "3  2011    NaN  San Francisco    NaN  \n",
       "4  2011    NaN  San Francisco    NaN  "
      ]
     },
     "execution_count": 48,
     "metadata": {},
     "output_type": "execute_result"
    }
   ],
   "source": [
    "sal.head()"
   ]
  },
  {
   "cell_type": "markdown",
   "id": "3d96fedf",
   "metadata": {},
   "source": [
    "4. Use the .info() method to find out how many entries there are."
   ]
  },
  {
   "cell_type": "code",
   "execution_count": 5,
   "id": "a1d6fc7e",
   "metadata": {},
   "outputs": [
    {
     "name": "stdout",
     "output_type": "stream",
     "text": [
      "<class 'pandas.core.frame.DataFrame'>\n",
      "RangeIndex: 148654 entries, 0 to 148653\n",
      "Data columns (total 13 columns):\n",
      " #   Column            Non-Null Count   Dtype  \n",
      "---  ------            --------------   -----  \n",
      " 0   Id                148654 non-null  int64  \n",
      " 1   EmployeeName      148654 non-null  object \n",
      " 2   JobTitle          148654 non-null  object \n",
      " 3   BasePay           148045 non-null  float64\n",
      " 4   OvertimePay       148650 non-null  float64\n",
      " 5   OtherPay          148650 non-null  float64\n",
      " 6   Benefits          112491 non-null  float64\n",
      " 7   TotalPay          148654 non-null  float64\n",
      " 8   TotalPayBenefits  148654 non-null  float64\n",
      " 9   Year              148654 non-null  int64  \n",
      " 10  Notes             0 non-null       float64\n",
      " 11  Agency            148654 non-null  object \n",
      " 12  Status            38119 non-null   object \n",
      "dtypes: float64(7), int64(2), object(4)\n",
      "memory usage: 14.7+ MB\n"
     ]
    }
   ],
   "source": [
    "sal['BasePay'] = pd.to_numeric(sal['BasePay'], errors='coerce')\n",
    "sal['OvertimePay'] = pd.to_numeric(sal['OvertimePay'], errors='coerce')\n",
    "sal['OtherPay'] = pd.to_numeric(sal['OtherPay'], errors='coerce')\n",
    "sal['Benefits'] = pd.to_numeric(sal['Benefits'], errors='coerce')\n",
    "sal.info()"
   ]
  },
  {
   "cell_type": "markdown",
   "id": "92b29fc4",
   "metadata": {},
   "source": [
    "5. What is the average BasePay ?"
   ]
  },
  {
   "cell_type": "code",
   "execution_count": 50,
   "id": "691d1edf",
   "metadata": {},
   "outputs": [
    {
     "data": {
      "text/plain": [
       "66325.4488404877"
      ]
     },
     "execution_count": 50,
     "metadata": {},
     "output_type": "execute_result"
    }
   ],
   "source": [
    "avg = sal['BasePay'].mean()\n",
    "avg"
   ]
  },
  {
   "cell_type": "markdown",
   "id": "1df33d11",
   "metadata": {},
   "source": [
    "6. What is the highest amount of OvertimePay in the dataset ?"
   ]
  },
  {
   "cell_type": "code",
   "execution_count": 51,
   "id": "6f1a64cd",
   "metadata": {},
   "outputs": [
    {
     "data": {
      "text/plain": [
       "245131.88"
      ]
     },
     "execution_count": 51,
     "metadata": {},
     "output_type": "execute_result"
    }
   ],
   "source": [
    "high_overtimepay = sal['OvertimePay'].max()\n",
    "high_overtimepay"
   ]
  },
  {
   "cell_type": "markdown",
   "id": "ba908491",
   "metadata": {},
   "source": [
    "7. What is the job title of JOSEPH DRISCOLL ? Note: Use all caps, otherwise you may get an answer that doesn't match up (there is also a lowercase Joseph Driscoll)."
   ]
  },
  {
   "cell_type": "code",
   "execution_count": 52,
   "id": "99712d9a",
   "metadata": {},
   "outputs": [
    {
     "data": {
      "text/plain": [
       "'CAPTAIN, FIRE SUPPRESSION'"
      ]
     },
     "execution_count": 52,
     "metadata": {},
     "output_type": "execute_result"
    }
   ],
   "source": [
    "joseph_driscoll = sal[sal['EmployeeName'] == 'JOSEPH DRISCOLL']['JobTitle'].iloc[0]\n",
    "joseph_driscoll"
   ]
  },
  {
   "cell_type": "markdown",
   "id": "9fe5adb7",
   "metadata": {},
   "source": [
    "8. How much does JOSEPH DRISCOLL make (including benefits)?"
   ]
  },
  {
   "cell_type": "code",
   "execution_count": 53,
   "id": "10095bcf",
   "metadata": {},
   "outputs": [
    {
     "data": {
      "text/plain": [
       "270324.91"
      ]
     },
     "execution_count": 53,
     "metadata": {},
     "output_type": "execute_result"
    }
   ],
   "source": [
    "joseph_salary = sal[sal['EmployeeName'] == 'JOSEPH DRISCOLL']['TotalPayBenefits'].iloc[0]\n",
    "joseph_salary"
   ]
  },
  {
   "cell_type": "markdown",
   "id": "5363722b",
   "metadata": {},
   "source": [
    "9. What is the name of highest paid person (including benefits)?"
   ]
  },
  {
   "cell_type": "code",
   "execution_count": 54,
   "id": "904fbf2c",
   "metadata": {},
   "outputs": [
    {
     "data": {
      "text/plain": [
       "'NATHANIEL FORD'"
      ]
     },
     "execution_count": 54,
     "metadata": {},
     "output_type": "execute_result"
    }
   ],
   "source": [
    "high_person = sal.loc[sal['TotalPayBenefits'].idxmax()]['EmployeeName']\n",
    "high_person"
   ]
  },
  {
   "cell_type": "markdown",
   "id": "33c71f6d",
   "metadata": {},
   "source": [
    "10. What is the name of lowest paid person (including benefits)? Do you notice something strange about how much he or she is paid?"
   ]
  },
  {
   "cell_type": "code",
   "execution_count": 55,
   "id": "842e6e30",
   "metadata": {},
   "outputs": [
    {
     "data": {
      "text/plain": [
       "-618.13"
      ]
     },
     "execution_count": 55,
     "metadata": {},
     "output_type": "execute_result"
    }
   ],
   "source": [
    "low_paid = sal.loc[sal['TotalPayBenefits'].idxmin()]\n",
    "low_paid['EmployeeName']\n",
    "low_paid['TotalPayBenefits']"
   ]
  },
  {
   "cell_type": "markdown",
   "id": "c15dfc01",
   "metadata": {},
   "source": [
    "11. What was the average (mean) BasePay of all employees per year? (2011-2014) ?"
   ]
  },
  {
   "cell_type": "code",
   "execution_count": 56,
   "id": "2c23c3f7",
   "metadata": {},
   "outputs": [
    {
     "data": {
      "text/plain": [
       "Year\n",
       "2011    63595.956517\n",
       "2012    65436.406857\n",
       "2013    69630.030216\n",
       "2014    66564.421924\n",
       "Name: BasePay, dtype: float64"
      ]
     },
     "execution_count": 56,
     "metadata": {},
     "output_type": "execute_result"
    }
   ],
   "source": [
    "average_basepay = sal.groupby('Year')['BasePay'].mean()\n",
    "average_basepay"
   ]
  },
  {
   "cell_type": "markdown",
   "id": "ed21db45",
   "metadata": {},
   "source": [
    "12. How many unique job titles are there?"
   ]
  },
  {
   "cell_type": "code",
   "execution_count": 6,
   "id": "2c0a73dd",
   "metadata": {},
   "outputs": [
    {
     "data": {
      "text/plain": [
       "2159"
      ]
     },
     "execution_count": 6,
     "metadata": {},
     "output_type": "execute_result"
    }
   ],
   "source": [
    "unique_job = sal['JobTitle'].nunique()\n",
    "unique_job"
   ]
  },
  {
   "cell_type": "markdown",
   "id": "b2f964e1",
   "metadata": {},
   "source": [
    "13. What are the top 5 most common jobs?"
   ]
  },
  {
   "cell_type": "code",
   "execution_count": 58,
   "id": "b5eaa531",
   "metadata": {},
   "outputs": [
    {
     "data": {
      "text/plain": [
       "JobTitle\n",
       "Transit Operator                7036\n",
       "Special Nurse                   4389\n",
       "Registered Nurse                3736\n",
       "Public Svc Aide-Public Works    2518\n",
       "Police Officer 3                2421\n",
       "Name: count, dtype: int64"
      ]
     },
     "execution_count": 58,
     "metadata": {},
     "output_type": "execute_result"
    }
   ],
   "source": [
    "top5_common_job = sal['JobTitle'].value_counts().head()\n",
    "top5_common_job"
   ]
  },
  {
   "cell_type": "markdown",
   "id": "cf04c04a",
   "metadata": {},
   "source": [
    "14. How many Job Titles were represented by only one person in 2013? (e.g. Job Titles with only one occurence in 2013?)"
   ]
  },
  {
   "cell_type": "code",
   "execution_count": 60,
   "id": "2e192b16",
   "metadata": {},
   "outputs": [
    {
     "data": {
      "text/plain": [
       "202"
      ]
     },
     "execution_count": 60,
     "metadata": {},
     "output_type": "execute_result"
    }
   ],
   "source": [
    "job_title_2013 = sal[sal['Year'] == 2013]['JobTitle'].value_counts()\n",
    "job_title_2013 = sum(job_title_2013 == 1)\n",
    "job_title_2013"
   ]
  },
  {
   "cell_type": "markdown",
   "id": "c43712db",
   "metadata": {},
   "source": [
    "15. How many people have the word Chief in their job title?"
   ]
  },
  {
   "cell_type": "code",
   "execution_count": 61,
   "id": "dcbe09ee",
   "metadata": {},
   "outputs": [
    {
     "data": {
      "text/plain": [
       "627"
      ]
     },
     "execution_count": 61,
     "metadata": {},
     "output_type": "execute_result"
    }
   ],
   "source": [
    "chief_title = sum(sal['JobTitle'].apply(lambda x: 'chief' in x.lower()))\n",
    "chief_title"
   ]
  },
  {
   "cell_type": "markdown",
   "id": "db9da982",
   "metadata": {},
   "source": [
    "16. Is there a correlation between length of the Job Title string and Salary?"
   ]
  },
  {
   "cell_type": "code",
   "execution_count": 62,
   "id": "f499f140",
   "metadata": {},
   "outputs": [
    {
     "data": {
      "text/plain": [
       "-0.03687844593260901"
      ]
     },
     "execution_count": 62,
     "metadata": {},
     "output_type": "execute_result"
    }
   ],
   "source": [
    "sal['TitleLength'] = sal['JobTitle'].apply(len)\n",
    "corr = sal[['TitleLength', 'TotalPayBenefits']].corr().iloc[0, 1]\n",
    "corr"
   ]
  },
  {
   "cell_type": "code",
   "execution_count": 19,
   "id": "ff6ef4ce",
   "metadata": {},
   "outputs": [
    {
     "data": {
      "text/html": [
       "<div>\n",
       "<style scoped>\n",
       "    .dataframe tbody tr th:only-of-type {\n",
       "        vertical-align: middle;\n",
       "    }\n",
       "\n",
       "    .dataframe tbody tr th {\n",
       "        vertical-align: top;\n",
       "    }\n",
       "\n",
       "    .dataframe thead th {\n",
       "        text-align: right;\n",
       "    }\n",
       "</style>\n",
       "<table border=\"1\" class=\"dataframe\">\n",
       "  <thead>\n",
       "    <tr style=\"text-align: right;\">\n",
       "      <th></th>\n",
       "      <th>ProductId</th>\n",
       "      <th>Product Name</th>\n",
       "      <th>Product Price</th>\n",
       "    </tr>\n",
       "  </thead>\n",
       "  <tbody>\n",
       "    <tr>\n",
       "      <th>0</th>\n",
       "      <td>123.0</td>\n",
       "      <td>NaN</td>\n",
       "      <td>50.0</td>\n",
       "    </tr>\n",
       "    <tr>\n",
       "      <th>1</th>\n",
       "      <td>456.0</td>\n",
       "      <td>NaN</td>\n",
       "      <td>NaN</td>\n",
       "    </tr>\n",
       "    <tr>\n",
       "      <th>2</th>\n",
       "      <td>NaN</td>\n",
       "      <td>NaN</td>\n",
       "      <td>NaN</td>\n",
       "    </tr>\n",
       "  </tbody>\n",
       "</table>\n",
       "</div>"
      ],
      "text/plain": [
       "   ProductId  Product Name  Product Price\n",
       "0      123.0           NaN           50.0\n",
       "1      456.0           NaN            NaN\n",
       "2        NaN           NaN            NaN"
      ]
     },
     "execution_count": 19,
     "metadata": {},
     "output_type": "execute_result"
    }
   ],
   "source": [
    "import pandas as pd\n",
    "import numpy as np\n",
    "data = [[123,np.nan,50],\n",
    "        [456,np.nan,np.nan],\n",
    "       [np.nan,np.nan]]\n",
    "df = pd.DataFrame(data,columns=['ProductId','Product Name','Product Price'])\n",
    "df"
   ]
  },
  {
   "cell_type": "code",
   "execution_count": 21,
   "id": "59305a13",
   "metadata": {},
   "outputs": [
    {
     "data": {
      "text/html": [
       "<div>\n",
       "<style scoped>\n",
       "    .dataframe tbody tr th:only-of-type {\n",
       "        vertical-align: middle;\n",
       "    }\n",
       "\n",
       "    .dataframe tbody tr th {\n",
       "        vertical-align: top;\n",
       "    }\n",
       "\n",
       "    .dataframe thead th {\n",
       "        text-align: right;\n",
       "    }\n",
       "</style>\n",
       "<table border=\"1\" class=\"dataframe\">\n",
       "  <thead>\n",
       "    <tr style=\"text-align: right;\">\n",
       "      <th></th>\n",
       "      <th>ProductId</th>\n",
       "      <th>Product Name</th>\n",
       "      <th>Product Price</th>\n",
       "    </tr>\n",
       "  </thead>\n",
       "  <tbody>\n",
       "    <tr>\n",
       "      <th>0</th>\n",
       "      <td>False</td>\n",
       "      <td>True</td>\n",
       "      <td>False</td>\n",
       "    </tr>\n",
       "    <tr>\n",
       "      <th>1</th>\n",
       "      <td>False</td>\n",
       "      <td>True</td>\n",
       "      <td>True</td>\n",
       "    </tr>\n",
       "    <tr>\n",
       "      <th>2</th>\n",
       "      <td>True</td>\n",
       "      <td>True</td>\n",
       "      <td>True</td>\n",
       "    </tr>\n",
       "  </tbody>\n",
       "</table>\n",
       "</div>"
      ],
      "text/plain": [
       "   ProductId  Product Name  Product Price\n",
       "0      False          True          False\n",
       "1      False          True           True\n",
       "2       True          True           True"
      ]
     },
     "execution_count": 21,
     "metadata": {},
     "output_type": "execute_result"
    }
   ],
   "source": [
    "df.isnull()"
   ]
  },
  {
   "cell_type": "code",
   "execution_count": 27,
   "id": "736c3c84",
   "metadata": {},
   "outputs": [
    {
     "data": {
      "text/html": [
       "<div>\n",
       "<style scoped>\n",
       "    .dataframe tbody tr th:only-of-type {\n",
       "        vertical-align: middle;\n",
       "    }\n",
       "\n",
       "    .dataframe tbody tr th {\n",
       "        vertical-align: top;\n",
       "    }\n",
       "\n",
       "    .dataframe thead th {\n",
       "        text-align: right;\n",
       "    }\n",
       "</style>\n",
       "<table border=\"1\" class=\"dataframe\">\n",
       "  <thead>\n",
       "    <tr style=\"text-align: right;\">\n",
       "      <th></th>\n",
       "      <th>ProductId</th>\n",
       "      <th>Product Name</th>\n",
       "      <th>Product Price</th>\n",
       "    </tr>\n",
       "  </thead>\n",
       "  <tbody>\n",
       "    <tr>\n",
       "      <th>0</th>\n",
       "      <td>123.0</td>\n",
       "      <td>NaN</td>\n",
       "      <td>50.0</td>\n",
       "    </tr>\n",
       "    <tr>\n",
       "      <th>1</th>\n",
       "      <td>456.0</td>\n",
       "      <td>NaN</td>\n",
       "      <td>NaN</td>\n",
       "    </tr>\n",
       "  </tbody>\n",
       "</table>\n",
       "</div>"
      ],
      "text/plain": [
       "   ProductId  Product Name  Product Price\n",
       "0      123.0           NaN           50.0\n",
       "1      456.0           NaN            NaN"
      ]
     },
     "execution_count": 27,
     "metadata": {},
     "output_type": "execute_result"
    }
   ],
   "source": [
    "df.dropna(thresh=1)"
   ]
  },
  {
   "cell_type": "code",
   "execution_count": null,
   "id": "aea49eb3",
   "metadata": {},
   "outputs": [],
   "source": []
  }
 ],
 "metadata": {
  "kernelspec": {
   "display_name": "Python 3 (ipykernel)",
   "language": "python",
   "name": "python3"
  },
  "language_info": {
   "codemirror_mode": {
    "name": "ipython",
    "version": 3
   },
   "file_extension": ".py",
   "mimetype": "text/x-python",
   "name": "python",
   "nbconvert_exporter": "python",
   "pygments_lexer": "ipython3",
   "version": "3.11.5"
  }
 },
 "nbformat": 4,
 "nbformat_minor": 5
}
